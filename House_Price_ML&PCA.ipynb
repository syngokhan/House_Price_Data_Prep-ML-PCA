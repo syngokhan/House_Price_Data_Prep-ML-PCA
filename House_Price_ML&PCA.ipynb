{
 "cells": [
  {
   "cell_type": "code",
   "execution_count": 1,
   "id": "alive-affiliate",
   "metadata": {},
   "outputs": [],
   "source": [
    "import pandas as pd\n",
    "import numpy as np\n",
    "import seaborn as sns\n",
    "import matplotlib.pyplot as plt\n",
    "%matplotlib inline"
   ]
  },
  {
   "cell_type": "code",
   "execution_count": 2,
   "id": "binding-charity",
   "metadata": {},
   "outputs": [],
   "source": [
    "from helpers.eda import *\n",
    "from helpers.data_prep import *"
   ]
  },
  {
   "cell_type": "code",
   "execution_count": 3,
   "id": "informational-protocol",
   "metadata": {},
   "outputs": [],
   "source": [
    "import pickle\n",
    "from warnings import filterwarnings\n",
    "filterwarnings(\"ignore\")"
   ]
  },
  {
   "cell_type": "code",
   "execution_count": 4,
   "id": "willing-cathedral",
   "metadata": {},
   "outputs": [],
   "source": [
    "from sklearn.ensemble import RandomForestRegressor,GradientBoostingRegressor\n",
    "from sklearn.tree import DecisionTreeRegressor\n",
    "from sklearn.neighbors import KNeighborsRegressor\n",
    "from sklearn.svm import SVR\n",
    "from sklearn.linear_model import LinearRegression,Lasso,Ridge,ElasticNet\n",
    "\n",
    "from xgboost import XGBRegressor\n",
    "from lightgbm import LGBMRegressor\n",
    "from catboost import CatBoostRegressor\n",
    "\n",
    "from sklearn.model_selection import GridSearchCV,cross_validate,train_test_split,validation_curve\n",
    "from sklearn.metrics import mean_absolute_error,mean_squared_error\n",
    "\n",
    "from sklearn.decomposition import PCA"
   ]
  },
  {
   "cell_type": "code",
   "execution_count": 5,
   "id": "nasty-stroke",
   "metadata": {},
   "outputs": [],
   "source": [
    "######################################\n",
    "# Modeling\n",
    "######################################"
   ]
  },
  {
   "cell_type": "code",
   "execution_count": 6,
   "id": "subjective-blair",
   "metadata": {},
   "outputs": [
    {
     "name": "stdout",
     "output_type": "stream",
     "text": [
      "Observations : 2919\n",
      "Variables : 173\n",
      "Cat Cols : 135\n",
      "Num Cols : 38\n",
      "Cat But Car : 0\n",
      "Num But Cat : 135\n"
     ]
    }
   ],
   "source": [
    "df = pickle.load(open(\"House_Price.pkl\",\"rb\"))\n",
    "for col in df.columns:\n",
    "    df[col] = df[col].astype(float)\n",
    "    \n",
    "cat_cols,num_cols,cat_but_car = grab_col_names(df,details=True)"
   ]
  },
  {
   "cell_type": "code",
   "execution_count": 7,
   "id": "fundamental-going",
   "metadata": {},
   "outputs": [
    {
     "data": {
      "text/html": [
       "<div>\n",
       "<style scoped>\n",
       "    .dataframe tbody tr th:only-of-type {\n",
       "        vertical-align: middle;\n",
       "    }\n",
       "\n",
       "    .dataframe tbody tr th {\n",
       "        vertical-align: top;\n",
       "    }\n",
       "\n",
       "    .dataframe thead th {\n",
       "        text-align: right;\n",
       "    }\n",
       "</style>\n",
       "<table border=\"1\" class=\"dataframe\">\n",
       "  <thead>\n",
       "    <tr style=\"text-align: right;\">\n",
       "      <th></th>\n",
       "      <th>Id</th>\n",
       "      <th>MSSubClass</th>\n",
       "      <th>LotFrontage</th>\n",
       "      <th>LotArea</th>\n",
       "      <th>Neighborhood</th>\n",
       "      <th>Condition1</th>\n",
       "      <th>Condition2</th>\n",
       "      <th>HouseStyle</th>\n",
       "      <th>OverallQual</th>\n",
       "      <th>OverallCond</th>\n",
       "      <th>...</th>\n",
       "      <th>SaleType_2</th>\n",
       "      <th>SaleType_3</th>\n",
       "      <th>SaleCondition_1</th>\n",
       "      <th>SaleCondition_2</th>\n",
       "      <th>SaleCondition_3</th>\n",
       "      <th>SaleCondition_4</th>\n",
       "      <th>HasGarage_1</th>\n",
       "      <th>HasFirePlace_1</th>\n",
       "      <th>Has2ndFloor_1</th>\n",
       "      <th>HasBsmt_1</th>\n",
       "    </tr>\n",
       "  </thead>\n",
       "  <tbody>\n",
       "    <tr>\n",
       "      <th>0</th>\n",
       "      <td>1.0</td>\n",
       "      <td>6.0</td>\n",
       "      <td>65.0</td>\n",
       "      <td>8450.0</td>\n",
       "      <td>4.0</td>\n",
       "      <td>4.0</td>\n",
       "      <td>4.0</td>\n",
       "      <td>2.0</td>\n",
       "      <td>5.0</td>\n",
       "      <td>5.0</td>\n",
       "      <td>...</td>\n",
       "      <td>0.0</td>\n",
       "      <td>1.0</td>\n",
       "      <td>0.0</td>\n",
       "      <td>1.0</td>\n",
       "      <td>0.0</td>\n",
       "      <td>0.0</td>\n",
       "      <td>1.0</td>\n",
       "      <td>0.0</td>\n",
       "      <td>1.0</td>\n",
       "      <td>1.0</td>\n",
       "    </tr>\n",
       "    <tr>\n",
       "      <th>1</th>\n",
       "      <td>2.0</td>\n",
       "      <td>3.0</td>\n",
       "      <td>80.0</td>\n",
       "      <td>9600.0</td>\n",
       "      <td>6.0</td>\n",
       "      <td>2.0</td>\n",
       "      <td>4.0</td>\n",
       "      <td>1.0</td>\n",
       "      <td>4.0</td>\n",
       "      <td>8.0</td>\n",
       "      <td>...</td>\n",
       "      <td>0.0</td>\n",
       "      <td>1.0</td>\n",
       "      <td>0.0</td>\n",
       "      <td>1.0</td>\n",
       "      <td>0.0</td>\n",
       "      <td>0.0</td>\n",
       "      <td>1.0</td>\n",
       "      <td>1.0</td>\n",
       "      <td>0.0</td>\n",
       "      <td>1.0</td>\n",
       "    </tr>\n",
       "    <tr>\n",
       "      <th>2</th>\n",
       "      <td>3.0</td>\n",
       "      <td>6.0</td>\n",
       "      <td>68.0</td>\n",
       "      <td>11250.0</td>\n",
       "      <td>4.0</td>\n",
       "      <td>4.0</td>\n",
       "      <td>4.0</td>\n",
       "      <td>2.0</td>\n",
       "      <td>5.0</td>\n",
       "      <td>5.0</td>\n",
       "      <td>...</td>\n",
       "      <td>0.0</td>\n",
       "      <td>1.0</td>\n",
       "      <td>0.0</td>\n",
       "      <td>1.0</td>\n",
       "      <td>0.0</td>\n",
       "      <td>0.0</td>\n",
       "      <td>1.0</td>\n",
       "      <td>1.0</td>\n",
       "      <td>1.0</td>\n",
       "      <td>1.0</td>\n",
       "    </tr>\n",
       "    <tr>\n",
       "      <th>3</th>\n",
       "      <td>4.0</td>\n",
       "      <td>7.0</td>\n",
       "      <td>60.0</td>\n",
       "      <td>9550.0</td>\n",
       "      <td>5.0</td>\n",
       "      <td>4.0</td>\n",
       "      <td>4.0</td>\n",
       "      <td>2.0</td>\n",
       "      <td>5.0</td>\n",
       "      <td>5.0</td>\n",
       "      <td>...</td>\n",
       "      <td>0.0</td>\n",
       "      <td>1.0</td>\n",
       "      <td>0.0</td>\n",
       "      <td>0.0</td>\n",
       "      <td>0.0</td>\n",
       "      <td>0.0</td>\n",
       "      <td>1.0</td>\n",
       "      <td>1.0</td>\n",
       "      <td>1.0</td>\n",
       "      <td>1.0</td>\n",
       "    </tr>\n",
       "    <tr>\n",
       "      <th>4</th>\n",
       "      <td>5.0</td>\n",
       "      <td>6.0</td>\n",
       "      <td>84.0</td>\n",
       "      <td>14260.0</td>\n",
       "      <td>7.0</td>\n",
       "      <td>4.0</td>\n",
       "      <td>4.0</td>\n",
       "      <td>2.0</td>\n",
       "      <td>6.0</td>\n",
       "      <td>5.0</td>\n",
       "      <td>...</td>\n",
       "      <td>0.0</td>\n",
       "      <td>1.0</td>\n",
       "      <td>0.0</td>\n",
       "      <td>1.0</td>\n",
       "      <td>0.0</td>\n",
       "      <td>0.0</td>\n",
       "      <td>1.0</td>\n",
       "      <td>1.0</td>\n",
       "      <td>1.0</td>\n",
       "      <td>1.0</td>\n",
       "    </tr>\n",
       "  </tbody>\n",
       "</table>\n",
       "<p>5 rows × 173 columns</p>\n",
       "</div>"
      ],
      "text/plain": [
       "    Id  MSSubClass  LotFrontage  LotArea  Neighborhood  Condition1  \\\n",
       "0  1.0         6.0         65.0   8450.0           4.0         4.0   \n",
       "1  2.0         3.0         80.0   9600.0           6.0         2.0   \n",
       "2  3.0         6.0         68.0  11250.0           4.0         4.0   \n",
       "3  4.0         7.0         60.0   9550.0           5.0         4.0   \n",
       "4  5.0         6.0         84.0  14260.0           7.0         4.0   \n",
       "\n",
       "   Condition2  HouseStyle  OverallQual  OverallCond  ...  SaleType_2  \\\n",
       "0         4.0         2.0          5.0          5.0  ...         0.0   \n",
       "1         4.0         1.0          4.0          8.0  ...         0.0   \n",
       "2         4.0         2.0          5.0          5.0  ...         0.0   \n",
       "3         4.0         2.0          5.0          5.0  ...         0.0   \n",
       "4         4.0         2.0          6.0          5.0  ...         0.0   \n",
       "\n",
       "   SaleType_3  SaleCondition_1  SaleCondition_2  SaleCondition_3  \\\n",
       "0         1.0              0.0              1.0              0.0   \n",
       "1         1.0              0.0              1.0              0.0   \n",
       "2         1.0              0.0              1.0              0.0   \n",
       "3         1.0              0.0              0.0              0.0   \n",
       "4         1.0              0.0              1.0              0.0   \n",
       "\n",
       "   SaleCondition_4  HasGarage_1  HasFirePlace_1  Has2ndFloor_1  HasBsmt_1  \n",
       "0              0.0          1.0             0.0            1.0        1.0  \n",
       "1              0.0          1.0             1.0            0.0        1.0  \n",
       "2              0.0          1.0             1.0            1.0        1.0  \n",
       "3              0.0          1.0             1.0            1.0        1.0  \n",
       "4              0.0          1.0             1.0            1.0        1.0  \n",
       "\n",
       "[5 rows x 173 columns]"
      ]
     },
     "execution_count": 7,
     "metadata": {},
     "output_type": "execute_result"
    }
   ],
   "source": [
    "df.head()"
   ]
  },
  {
   "cell_type": "code",
   "execution_count": 8,
   "id": "devoted-force",
   "metadata": {},
   "outputs": [],
   "source": [
    "scaler_num_cols = ['MSSubClass',\n",
    " 'LotFrontage',\n",
    " 'LotArea',\n",
    " 'YearBuilt',\n",
    " 'YearRemodAdd',\n",
    " 'Exterior1st',\n",
    " 'Exterior2nd',\n",
    " 'MasVnrArea',\n",
    " 'BsmtFinSF1',\n",
    " 'BsmtFinSF2',\n",
    " 'BsmtUnfSF',\n",
    " 'TotalBsmtSF',\n",
    " '1stFlrSF',\n",
    " '2ndFlrSF',\n",
    " 'LowQualFinSF',\n",
    " 'GrLivArea',\n",
    " 'GarageYrBlt',\n",
    " 'GarageArea',\n",
    " 'WoodDeckSF',\n",
    " 'OpenPorchSF',\n",
    " 'EnclosedPorch',\n",
    " '3SsnPorch',\n",
    " 'ScreenPorch',\n",
    " 'PoolArea',\n",
    " 'PoolQC',\n",
    " 'MiscVal',\n",
    " 'MoSold',\n",
    " 'GarageCarSize',\n",
    " 'HomeRepairYear',\n",
    " 'TotalSF',\n",
    " 'SqFtPerRoom',\n",
    " 'TotalPorchSF',\n",
    " 'ConditionScore',\n",
    " 'TotalBsmScore',\n",
    " 'TotalQual',\n",
    " 'QualGr']"
   ]
  },
  {
   "cell_type": "code",
   "execution_count": 9,
   "id": "straight-controversy",
   "metadata": {},
   "outputs": [
    {
     "data": {
      "text/plain": [
       "True"
      ]
     },
     "execution_count": 9,
     "metadata": {},
     "output_type": "execute_result"
    }
   ],
   "source": [
    "scaler_num_cols == [col for col in num_cols if col not in [\"Id\",\"SalePrice\"]]"
   ]
  },
  {
   "cell_type": "code",
   "execution_count": 10,
   "id": "hourly-globe",
   "metadata": {},
   "outputs": [
    {
     "name": "stdout",
     "output_type": "stream",
     "text": [
      "DataFrame Shape : (2919, 173)\n"
     ]
    }
   ],
   "source": [
    "print(\"DataFrame Shape : {}\".format(df.shape))"
   ]
  },
  {
   "cell_type": "code",
   "execution_count": 11,
   "id": "federal-trademark",
   "metadata": {},
   "outputs": [],
   "source": [
    "train_df = df[df[\"SalePrice\"].notnull()]\n",
    "test_df = df[df[\"SalePrice\"].isnull()].drop(\"SalePrice\", axis = 1)"
   ]
  },
  {
   "cell_type": "code",
   "execution_count": 12,
   "id": "located-enterprise",
   "metadata": {},
   "outputs": [],
   "source": [
    "X = train_df.drop([\"Id\",\"SalePrice\"], axis = 1)\n",
    "y = np.log1p(train_df[\"SalePrice\"])"
   ]
  },
  {
   "cell_type": "code",
   "execution_count": 13,
   "id": "preceding-freeze",
   "metadata": {},
   "outputs": [],
   "source": [
    "ridge_params = {\"solver\" : ['auto', 'svd', 'cholesky', 'lsqr', 'sparse_cg', 'sag', 'saga'],\n",
    "                \"alpha\" : [1e-15,1e-8,1e-3,1,5,10,30,50,100] , \n",
    "                \"max_iter\" : [500,700,900,]}\n",
    "\n",
    "cart_params = {'max_depth': range(1, 20),\n",
    "               \"min_samples_split\": range(2, 30)}\n",
    "\n",
    "rf_params = {\"max_depth\": [ 8, 15, None],\n",
    "             \"max_features\": [5, 7, \"auto\"],\n",
    "             \"min_samples_split\": [8, 15, 20],\n",
    "             \"n_estimators\": [ 500, 1000]}\n",
    "\n",
    "gbm_params = {\"learning_rate\": [0.01, 0.1],\n",
    "              \"max_depth\": [3, 8],\n",
    "              \"n_estimators\": [500, 1000],\n",
    "              \"subsample\": [1, 0.5, 0.7]}\n",
    "\n",
    "#gbm_params = {\"learning_rate\": [ 0.1, 0.2 ,0.3 ,0.4],\n",
    "#              \"n_estimators\": [ 300, 400, 500],\n",
    "#              \"max_depth\": [ 5, 8, 12],\n",
    "#              \"subsample\":[0.6 ,0.7 ,0.8 ,0.9]}\n",
    "\n",
    "\n",
    "lightgbm_params = {\"boosting_type\":['gbdt','dart','goss'],\n",
    "                   \"learning_rate\": [0.05, 0.07, 0.1, 0.2],\n",
    "                   \"n_estimators\": [ 300, 400, 500],\n",
    "                   \"max_depth\": [3, 5, 8],\n",
    "                   \"colsample_bytree\": [ 0.5, 0.7, 0.8, 1]}\n",
    "\n",
    "xgboost_params = {\"learning_rate\": [0.1, 0.01],\n",
    "                  \"max_depth\": [5, 8, 12, 20],\n",
    "                  \"n_estimators\": [100, 200],\n",
    "                  \"colsample_bytree\": [0.5, 0.8, 1]}\n",
    "\n",
    "lightgbm_params = {\"learning_rate\": [0.01, 0.1],\n",
    "                   \"n_estimators\": [300, 500, 1500],\n",
    "                   \"colsample_bytree\": [0.5, 0.7, 1]}\n",
    "\n",
    "knn_params = {\"n_neighbors\": range(2, 50)}\n",
    "\n",
    "regressors = [   \n",
    "                \n",
    "                #(\"Ridge\" , Ridge(),ridge_params),\n",
    "                #(\"Lasso\" , Lasso()),\n",
    "                #(\"ElasticNet\", ElasticNet()),\n",
    "                #(\"KNN\", KNeighborsRegressor(),knn_params),\n",
    "                (\"CART\" , DecisionTreeRegressor(),cart_params),\n",
    "                #(\"RF\",RandomForestRegressor(),rf_params),\n",
    "                #(\"SVR\", SVR()),\n",
    "                (\"GBM\" , GradientBoostingRegressor(),gbm_params),\n",
    "                (\"XGBoost\" , XGBRegressor(objective = \"reg:squarederror\"),xgboost_params),\n",
    "                (\"LightGBM\" , LGBMRegressor(),lightgbm_params)\n",
    "            \n",
    "            ]"
   ]
  },
  {
   "cell_type": "code",
   "execution_count": 14,
   "id": "referenced-planet",
   "metadata": {},
   "outputs": [],
   "source": [
    "#########################\n",
    "# Base Model\n",
    "#########################"
   ]
  },
  {
   "cell_type": "code",
   "execution_count": 34,
   "id": "labeled-identifier",
   "metadata": {},
   "outputs": [],
   "source": [
    "def base_model_regressors(regressors, X , y, cv =5):\n",
    "    \n",
    "    data = pd.DataFrame()\n",
    "    index = 0\n",
    "    \n",
    "    for name,regressor,params in regressors:\n",
    "        \n",
    "        cv_results = cross_validate(estimator=regressor,\n",
    "                                    X = X,\n",
    "                                    y = y,\n",
    "                                    cv = cv,\n",
    "                                    scoring = \"neg_mean_squared_error\")\n",
    "        \n",
    "        rmse = np.sqrt(-cv_results[\"test_score\"].mean())\n",
    "        fit_time = cv_results[\"fit_time\"].mean()\n",
    "        score_time = cv_results[\"score_time\"].mean()\n",
    "    \n",
    "        data.loc[index, \"NAME\"] = name\n",
    "        data.loc[index, \"RMSE\"] = rmse\n",
    "        data.loc[index, \"FIT__TIME\"] = fit_time\n",
    "        data.loc[index, \"SCORE_TIME\"] = score_time\n",
    "        index+=1\n",
    "    \n",
    "    data = data.sort_values(by = \"RMSE\")\n",
    "    data = data.set_index(\"NAME\")\n",
    "    data = data.T\n",
    "    \n",
    "    return data"
   ]
  },
  {
   "cell_type": "code",
   "execution_count": 16,
   "id": "green-clause",
   "metadata": {},
   "outputs": [
    {
     "data": {
      "text/html": [
       "<div>\n",
       "<style scoped>\n",
       "    .dataframe tbody tr th:only-of-type {\n",
       "        vertical-align: middle;\n",
       "    }\n",
       "\n",
       "    .dataframe tbody tr th {\n",
       "        vertical-align: top;\n",
       "    }\n",
       "\n",
       "    .dataframe thead th {\n",
       "        text-align: right;\n",
       "    }\n",
       "</style>\n",
       "<table border=\"1\" class=\"dataframe\">\n",
       "  <thead>\n",
       "    <tr style=\"text-align: right;\">\n",
       "      <th>NAME</th>\n",
       "      <th>GBM</th>\n",
       "      <th>LightGBM</th>\n",
       "      <th>XGBoost</th>\n",
       "      <th>CART</th>\n",
       "    </tr>\n",
       "  </thead>\n",
       "  <tbody>\n",
       "    <tr>\n",
       "      <th>RMSE</th>\n",
       "      <td>0.125502</td>\n",
       "      <td>0.129843</td>\n",
       "      <td>0.141866</td>\n",
       "      <td>0.195177</td>\n",
       "    </tr>\n",
       "    <tr>\n",
       "      <th>FIT__TIME</th>\n",
       "      <td>0.577290</td>\n",
       "      <td>0.141897</td>\n",
       "      <td>0.288649</td>\n",
       "      <td>0.029366</td>\n",
       "    </tr>\n",
       "    <tr>\n",
       "      <th>SCORE_TIME</th>\n",
       "      <td>0.002171</td>\n",
       "      <td>0.003008</td>\n",
       "      <td>0.003787</td>\n",
       "      <td>0.001721</td>\n",
       "    </tr>\n",
       "  </tbody>\n",
       "</table>\n",
       "</div>"
      ],
      "text/plain": [
       "NAME             GBM  LightGBM   XGBoost      CART\n",
       "RMSE        0.125502  0.129843  0.141866  0.195177\n",
       "FIT__TIME   0.577290  0.141897  0.288649  0.029366\n",
       "SCORE_TIME  0.002171  0.003008  0.003787  0.001721"
      ]
     },
     "execution_count": 16,
     "metadata": {},
     "output_type": "execute_result"
    }
   ],
   "source": [
    "base_model_regressors(regressors,X,y,cv = 5)"
   ]
  },
  {
   "cell_type": "code",
   "execution_count": 17,
   "id": "afraid-glenn",
   "metadata": {},
   "outputs": [],
   "source": [
    "#########################\n",
    "# HyperParameter Optimization Model\n",
    "#########################"
   ]
  },
  {
   "cell_type": "code",
   "execution_count": 35,
   "id": "cooperative-musical",
   "metadata": {},
   "outputs": [],
   "source": [
    "def hyperparameter_optimization_model(regressors,X,y,cv=5):\n",
    "    \n",
    "    index = 0\n",
    "    data = pd.DataFrame()\n",
    "    models_dict = {}\n",
    "    \n",
    "    \n",
    "    for name, regressor, params in regressors:\n",
    "        \n",
    "        cv_results = cross_validate(estimator=regressor,\n",
    "                                    X = X,\n",
    "                                    y = y, \n",
    "                                    cv = cv,\n",
    "                                    n_jobs=-1,\n",
    "                                    verbose=0,\n",
    "                                    scoring = \"neg_mean_squared_error\")\n",
    "        \n",
    "        rmse = np.sqrt(-cv_results[\"test_score\"].mean())\n",
    "        \n",
    "        print(\"\".center(50,\"#\"),end = \"\\n\\n\")\n",
    "        \n",
    "        print(f\"For {type(regressor).__name__.upper()} Model\", end = \"\\n\\n\")\n",
    "        \n",
    "        print(f\"Before Grid Search :\\n\\nRMSE : {rmse}\", end = \"\\n\\n\")\n",
    "              \n",
    "        best_grid = GridSearchCV(estimator=regressor,\n",
    "                                 param_grid=params,\n",
    "                                 cv = cv,\n",
    "                                 n_jobs=-1,\n",
    "                                 scoring=\"neg_mean_squared_error\",\n",
    "                                 verbose=0).fit(X,y)\n",
    "              \n",
    "        print(f\"Best Grid : {best_grid.best_params_}\",end = \"\\n\\n\")\n",
    "        \n",
    "        final_model = regressor.set_params(**best_grid.best_params_)\n",
    "        \n",
    "        models_dict[name] = final_model\n",
    "        \n",
    "        final_cv_results = cross_validate(estimator = final_model,\n",
    "                                          X = X,\n",
    "                                          y = y, \n",
    "                                          cv = cv,\n",
    "                                          scoring = \"neg_mean_squared_error\",\n",
    "                                          n_jobs = -1,\n",
    "                                          verbose = 0)\n",
    "        \n",
    "        final_rmse = np.sqrt(-final_cv_results[\"test_score\"].mean())\n",
    "        \n",
    "        print(f\"After Grid Search:\\n\\nRMSE : {final_rmse}\",end = \"\\n\\n\")\n",
    "        \n",
    "        data.loc[index, \"NAME\"] = name.upper()\n",
    "        data.loc[index, \"BEFORE_RMSE\"] = rmse\n",
    "        data.loc[index, \"AFTER_RMSE\"] = final_rmse\n",
    "        index+=1\n",
    "        \n",
    "        \n",
    "    data = data.sort_values(by = \"AFTER_RMSE\")\n",
    "    data = data.set_index(\"NAME\")\n",
    "    data = data.T\n",
    "    \n",
    "    return data,models_dict"
   ]
  },
  {
   "cell_type": "code",
   "execution_count": 19,
   "id": "quality-advice",
   "metadata": {},
   "outputs": [],
   "source": [
    "regressors = [   \n",
    "                \n",
    "                (\"Ridge\" , Ridge(),ridge_params),\n",
    "                #(\"Lasso\" , Lasso()),\n",
    "                #(\"ElasticNet\", ElasticNet()),\n",
    "                (\"KNN\", KNeighborsRegressor(),knn_params),\n",
    "                (\"CART\" , DecisionTreeRegressor(),cart_params),\n",
    "                #(\"RF\",RandomForestRegressor(),rf_params),\n",
    "                #(\"SVR\", SVR()),\n",
    "                #(\"GBM\" , GradientBoostingRegressor(),gbm_params),\n",
    "                (\"XGBoost\" , XGBRegressor(objective = \"reg:squarederror\"),xgboost_params),\n",
    "                (\"LightGBM\" , LGBMRegressor(),lightgbm_params)\n",
    "            \n",
    "            ]"
   ]
  },
  {
   "cell_type": "code",
   "execution_count": 20,
   "id": "arabic-catch",
   "metadata": {},
   "outputs": [
    {
     "name": "stdout",
     "output_type": "stream",
     "text": [
      "##################################################\n",
      "\n",
      "For RIDGE Model\n",
      "\n",
      "Before Grid Search :\n",
      "\n",
      "RMSE : 0.12906327871143142\n",
      "\n",
      "Best Grid : {'alpha': 50, 'max_iter': 500, 'solver': 'svd'}\n",
      "\n",
      "After Grid Search:\n",
      "\n",
      "RMSE : 0.1256736862632803\n",
      "\n",
      "##################################################\n",
      "\n",
      "For KNEIGHBORSREGRESSOR Model\n",
      "\n",
      "Before Grid Search :\n",
      "\n",
      "RMSE : 0.20598921431727402\n",
      "\n",
      "Best Grid : {'n_neighbors': 8}\n",
      "\n",
      "After Grid Search:\n",
      "\n",
      "RMSE : 0.20263459624797986\n",
      "\n",
      "##################################################\n",
      "\n",
      "For DECISIONTREEREGRESSOR Model\n",
      "\n",
      "Before Grid Search :\n",
      "\n",
      "RMSE : 0.197813176870843\n",
      "\n",
      "Best Grid : {'max_depth': 11, 'min_samples_split': 20}\n",
      "\n",
      "After Grid Search:\n",
      "\n",
      "RMSE : 0.17935706139353436\n",
      "\n",
      "##################################################\n",
      "\n",
      "For XGBREGRESSOR Model\n",
      "\n",
      "Before Grid Search :\n",
      "\n",
      "RMSE : 0.14186593145926385\n",
      "\n",
      "Best Grid : {'colsample_bytree': 0.5, 'learning_rate': 0.1, 'max_depth': 5, 'n_estimators': 200}\n",
      "\n",
      "After Grid Search:\n",
      "\n",
      "RMSE : 0.1274020869112321\n",
      "\n",
      "##################################################\n",
      "\n",
      "For LGBMREGRESSOR Model\n",
      "\n",
      "Before Grid Search :\n",
      "\n",
      "RMSE : 0.12984297553541133\n",
      "\n",
      "Best Grid : {'colsample_bytree': 0.5, 'learning_rate': 0.01, 'n_estimators': 1500}\n",
      "\n",
      "After Grid Search:\n",
      "\n",
      "RMSE : 0.12467555038500508\n",
      "\n"
     ]
    }
   ],
   "source": [
    "data , models_dict = hyperparameter_optimization_model(regressors, X , y, cv = 5)"
   ]
  },
  {
   "cell_type": "code",
   "execution_count": 21,
   "id": "varying-immune",
   "metadata": {},
   "outputs": [
    {
     "data": {
      "text/html": [
       "<div>\n",
       "<style scoped>\n",
       "    .dataframe tbody tr th:only-of-type {\n",
       "        vertical-align: middle;\n",
       "    }\n",
       "\n",
       "    .dataframe tbody tr th {\n",
       "        vertical-align: top;\n",
       "    }\n",
       "\n",
       "    .dataframe thead th {\n",
       "        text-align: right;\n",
       "    }\n",
       "</style>\n",
       "<table border=\"1\" class=\"dataframe\">\n",
       "  <thead>\n",
       "    <tr style=\"text-align: right;\">\n",
       "      <th>NAME</th>\n",
       "      <th>LIGHTGBM</th>\n",
       "      <th>RIDGE</th>\n",
       "      <th>XGBOOST</th>\n",
       "      <th>CART</th>\n",
       "      <th>KNN</th>\n",
       "    </tr>\n",
       "  </thead>\n",
       "  <tbody>\n",
       "    <tr>\n",
       "      <th>BEFORE_RMSE</th>\n",
       "      <td>0.129843</td>\n",
       "      <td>0.129063</td>\n",
       "      <td>0.141866</td>\n",
       "      <td>0.197813</td>\n",
       "      <td>0.205989</td>\n",
       "    </tr>\n",
       "    <tr>\n",
       "      <th>AFTER_RMSE</th>\n",
       "      <td>0.124676</td>\n",
       "      <td>0.125674</td>\n",
       "      <td>0.127402</td>\n",
       "      <td>0.179357</td>\n",
       "      <td>0.202635</td>\n",
       "    </tr>\n",
       "  </tbody>\n",
       "</table>\n",
       "</div>"
      ],
      "text/plain": [
       "NAME         LIGHTGBM     RIDGE   XGBOOST      CART       KNN\n",
       "BEFORE_RMSE  0.129843  0.129063  0.141866  0.197813  0.205989\n",
       "AFTER_RMSE   0.124676  0.125674  0.127402  0.179357  0.202635"
      ]
     },
     "execution_count": 21,
     "metadata": {},
     "output_type": "execute_result"
    }
   ],
   "source": [
    "data"
   ]
  },
  {
   "cell_type": "code",
   "execution_count": 22,
   "id": "partial-marina",
   "metadata": {},
   "outputs": [
    {
     "data": {
      "text/plain": [
       "{'Ridge': Ridge(alpha=50, max_iter=500, solver='svd'),\n",
       " 'KNN': KNeighborsRegressor(n_neighbors=8),\n",
       " 'CART': DecisionTreeRegressor(max_depth=11, min_samples_split=20),\n",
       " 'XGBoost': XGBRegressor(base_score=None, booster=None, colsample_bylevel=None,\n",
       "              colsample_bynode=None, colsample_bytree=0.5, gamma=None,\n",
       "              gpu_id=None, importance_type='gain', interaction_constraints=None,\n",
       "              learning_rate=0.1, max_delta_step=None, max_depth=5,\n",
       "              min_child_weight=None, missing=nan, monotone_constraints=None,\n",
       "              n_estimators=200, n_jobs=None, num_parallel_tree=None,\n",
       "              random_state=None, reg_alpha=None, reg_lambda=None,\n",
       "              scale_pos_weight=None, subsample=None, tree_method=None,\n",
       "              validate_parameters=None, verbosity=None),\n",
       " 'LightGBM': LGBMRegressor(colsample_bytree=0.5, learning_rate=0.01, n_estimators=1500)}"
      ]
     },
     "execution_count": 22,
     "metadata": {},
     "output_type": "execute_result"
    }
   ],
   "source": [
    "models_dict"
   ]
  },
  {
   "cell_type": "code",
   "execution_count": 23,
   "id": "constant-compiler",
   "metadata": {},
   "outputs": [],
   "source": [
    "for name,regressor,params in regressors:\n",
    "    \n",
    "    models_dict[name].fit(X,y)\n",
    "    \n",
    "    pd.to_pickle(models_dict[name], open(\"Final_\"+name.upper()+\"_Model.pkl\",\"wb\"))"
   ]
  },
  {
   "cell_type": "code",
   "execution_count": 24,
   "id": "minute-revelation",
   "metadata": {},
   "outputs": [],
   "source": [
    "#########################\n",
    "# VotingRegressor Model\n",
    "#########################"
   ]
  },
  {
   "cell_type": "code",
   "execution_count": 25,
   "id": "rough-distributor",
   "metadata": {},
   "outputs": [],
   "source": [
    "from sklearn.ensemble import VotingRegressor"
   ]
  },
  {
   "cell_type": "code",
   "execution_count": 36,
   "id": "catholic-universe",
   "metadata": {},
   "outputs": [],
   "source": [
    "def votingregressor_model(estimators,X,y,cv = 5):\n",
    "    \n",
    "    data = pd.DataFrame()\n",
    "    index = 0\n",
    "    \n",
    "    voting_regressor = VotingRegressor(estimators=estimators,\n",
    "                                       n_jobs=-1,\n",
    "                                       verbose=False)\n",
    "    \n",
    "    voting_regressor = voting_regressor.fit(X,y)\n",
    "    \n",
    "    cv_results = cross_validate(estimator=voting_regressor,\n",
    "                                X = X,\n",
    "                                y = y,\n",
    "                                cv = cv,\n",
    "                                n_jobs=-1,\n",
    "                                verbose=0,\n",
    "                                scoring = \"neg_mean_squared_error\")\n",
    "    \n",
    "    data.loc[index,\"NAME\"] = [\"VotingRegressor\"]\n",
    "    data.loc[index,\"RMSE\"] = np.sqrt(-cv_results[\"test_score\"].mean())\n",
    "    data.loc[index,\"FIT_TIME\"] = cv_results[\"fit_time\"].mean()\n",
    "    data.loc[index,\"SCORE_TIME\"] = cv_results[\"score_time\"].mean()\n",
    "    \n",
    "    data = data.set_index(\"NAME\")\n",
    "    \n",
    "    return data"
   ]
  },
  {
   "cell_type": "code",
   "execution_count": 27,
   "id": "express-stack",
   "metadata": {},
   "outputs": [
    {
     "data": {
      "text/plain": [
       "[('CART', DecisionTreeRegressor(max_depth=11, min_samples_split=20)),\n",
       " ('XGBoost',\n",
       "  XGBRegressor(base_score=0.5, booster='gbtree', colsample_bylevel=1,\n",
       "               colsample_bynode=1, colsample_bytree=0.5, gamma=0, gpu_id=-1,\n",
       "               importance_type='gain', interaction_constraints='',\n",
       "               learning_rate=0.1, max_delta_step=0, max_depth=5,\n",
       "               min_child_weight=1, missing=nan, monotone_constraints='()',\n",
       "               n_estimators=200, n_jobs=8, num_parallel_tree=1, random_state=0,\n",
       "               reg_alpha=0, reg_lambda=1, scale_pos_weight=1, subsample=1,\n",
       "               tree_method='exact', validate_parameters=1, verbosity=None)),\n",
       " ('LightGBM',\n",
       "  LGBMRegressor(colsample_bytree=0.5, learning_rate=0.01, n_estimators=1500))]"
      ]
     },
     "execution_count": 27,
     "metadata": {},
     "output_type": "execute_result"
    }
   ],
   "source": [
    "estimators = [ (name,models_dict[name]) for name,regressor,params in regressors if name not in [\"Ridge\",\"KNN\"]]\n",
    "estimators"
   ]
  },
  {
   "cell_type": "code",
   "execution_count": 28,
   "id": "magnetic-jenny",
   "metadata": {},
   "outputs": [],
   "source": [
    "voting_data = votingregressor_model(estimators,X,y, cv = 5)"
   ]
  },
  {
   "cell_type": "code",
   "execution_count": 29,
   "id": "taken-royal",
   "metadata": {},
   "outputs": [
    {
     "data": {
      "text/html": [
       "<div>\n",
       "<style scoped>\n",
       "    .dataframe tbody tr th:only-of-type {\n",
       "        vertical-align: middle;\n",
       "    }\n",
       "\n",
       "    .dataframe tbody tr th {\n",
       "        vertical-align: top;\n",
       "    }\n",
       "\n",
       "    .dataframe thead th {\n",
       "        text-align: right;\n",
       "    }\n",
       "</style>\n",
       "<table border=\"1\" class=\"dataframe\">\n",
       "  <thead>\n",
       "    <tr style=\"text-align: right;\">\n",
       "      <th>NAME</th>\n",
       "      <th>LIGHTGBM</th>\n",
       "      <th>RIDGE</th>\n",
       "      <th>XGBOOST</th>\n",
       "      <th>CART</th>\n",
       "      <th>KNN</th>\n",
       "    </tr>\n",
       "  </thead>\n",
       "  <tbody>\n",
       "    <tr>\n",
       "      <th>BEFORE_RMSE</th>\n",
       "      <td>0.129843</td>\n",
       "      <td>0.129063</td>\n",
       "      <td>0.141866</td>\n",
       "      <td>0.197813</td>\n",
       "      <td>0.205989</td>\n",
       "    </tr>\n",
       "    <tr>\n",
       "      <th>AFTER_RMSE</th>\n",
       "      <td>0.124676</td>\n",
       "      <td>0.125674</td>\n",
       "      <td>0.127402</td>\n",
       "      <td>0.179357</td>\n",
       "      <td>0.202635</td>\n",
       "    </tr>\n",
       "  </tbody>\n",
       "</table>\n",
       "</div>"
      ],
      "text/plain": [
       "NAME         LIGHTGBM     RIDGE   XGBOOST      CART       KNN\n",
       "BEFORE_RMSE  0.129843  0.129063  0.141866  0.197813  0.205989\n",
       "AFTER_RMSE   0.124676  0.125674  0.127402  0.179357  0.202635"
      ]
     },
     "execution_count": 29,
     "metadata": {},
     "output_type": "execute_result"
    }
   ],
   "source": [
    "data"
   ]
  },
  {
   "cell_type": "code",
   "execution_count": 30,
   "id": "boxed-affair",
   "metadata": {},
   "outputs": [
    {
     "data": {
      "text/html": [
       "<div>\n",
       "<style scoped>\n",
       "    .dataframe tbody tr th:only-of-type {\n",
       "        vertical-align: middle;\n",
       "    }\n",
       "\n",
       "    .dataframe tbody tr th {\n",
       "        vertical-align: top;\n",
       "    }\n",
       "\n",
       "    .dataframe thead th {\n",
       "        text-align: right;\n",
       "    }\n",
       "</style>\n",
       "<table border=\"1\" class=\"dataframe\">\n",
       "  <thead>\n",
       "    <tr style=\"text-align: right;\">\n",
       "      <th></th>\n",
       "      <th>RMSE</th>\n",
       "      <th>FIT_TIME</th>\n",
       "      <th>SCORE_TIME</th>\n",
       "    </tr>\n",
       "    <tr>\n",
       "      <th>NAME</th>\n",
       "      <th></th>\n",
       "      <th></th>\n",
       "      <th></th>\n",
       "    </tr>\n",
       "  </thead>\n",
       "  <tbody>\n",
       "    <tr>\n",
       "      <th>VotingRegressor</th>\n",
       "      <td>0.131068</td>\n",
       "      <td>3.607057</td>\n",
       "      <td>0.028344</td>\n",
       "    </tr>\n",
       "  </tbody>\n",
       "</table>\n",
       "</div>"
      ],
      "text/plain": [
       "                     RMSE  FIT_TIME  SCORE_TIME\n",
       "NAME                                           \n",
       "VotingRegressor  0.131068  3.607057    0.028344"
      ]
     },
     "execution_count": 30,
     "metadata": {},
     "output_type": "execute_result"
    }
   ],
   "source": [
    "voting_data"
   ]
  },
  {
   "cell_type": "code",
   "execution_count": 31,
   "id": "rental-variable",
   "metadata": {},
   "outputs": [],
   "source": [
    "################################################\n",
    "# Feature Importance\n",
    "################################################"
   ]
  },
  {
   "cell_type": "code",
   "execution_count": 37,
   "id": "theoretical-means",
   "metadata": {},
   "outputs": [],
   "source": [
    "def feature_importance(models,X,num=10,save = False):\n",
    "    \n",
    "    data = pd.DataFrame({\"RATIO\" : models.feature_importances_,\n",
    "                         \"FEATURES\" : X.columns}).sort_values(by = \"RATIO\", ascending = False)[0:num]\n",
    "    \n",
    "    plt.figure(figsize = (10,7))\n",
    "    sns.barplot(y = data[\"FEATURES\"], x = data[\"RATIO\"])\n",
    "    plt.title(\"FEAURES\")\n",
    "    plt.show()\n",
    "    \n",
    "    if save:\n",
    "        plt.savefig(type(models).__name__+\"importance.png\")"
   ]
  },
  {
   "cell_type": "code",
   "execution_count": 33,
   "id": "prescription-compiler",
   "metadata": {},
   "outputs": [
    {
     "data": {
      "image/png": "[encoded data removed]",
      "text/plain": [
       "<Figure size 720x504 with 1 Axes>"
      ]
     },
     "metadata": {
      "needs_background": "light"
     },
     "output_type": "display_data"
    },
    {
     "data": {
      "text/plain": [
       "<Figure size 432x288 with 0 Axes>"
      ]
     },
     "metadata": {},
     "output_type": "display_data"
    }
   ],
   "source": [
    "feature_importance(models_dict[\"LightGBM\"],X,num = 15, save = True)"
   ]
  },
  {
   "cell_type": "code",
   "execution_count": 34,
   "id": "appreciated-atlantic",
   "metadata": {},
   "outputs": [],
   "source": [
    "################################################\n",
    "# Analyzing Model Complexity with Learning Curves (BONUS)\n",
    "################################################"
   ]
  },
  {
   "cell_type": "code",
   "execution_count": 35,
   "id": "moral-throw",
   "metadata": {},
   "outputs": [
    {
     "data": {
      "text/plain": [
       "{'Ridge': Ridge(alpha=50, max_iter=500, solver='svd'),\n",
       " 'KNN': KNeighborsRegressor(n_neighbors=8),\n",
       " 'CART': DecisionTreeRegressor(max_depth=11, min_samples_split=20),\n",
       " 'XGBoost': XGBRegressor(base_score=0.5, booster='gbtree', colsample_bylevel=1,\n",
       "              colsample_bynode=1, colsample_bytree=0.5, gamma=0, gpu_id=-1,\n",
       "              importance_type='gain', interaction_constraints='',\n",
       "              learning_rate=0.1, max_delta_step=0, max_depth=5,\n",
       "              min_child_weight=1, missing=nan, monotone_constraints='()',\n",
       "              n_estimators=200, n_jobs=8, num_parallel_tree=1, random_state=0,\n",
       "              reg_alpha=0, reg_lambda=1, scale_pos_weight=1, subsample=1,\n",
       "              tree_method='exact', validate_parameters=1, verbosity=None),\n",
       " 'LightGBM': LGBMRegressor(colsample_bytree=0.5, learning_rate=0.01, n_estimators=1500)}"
      ]
     },
     "execution_count": 35,
     "metadata": {},
     "output_type": "execute_result"
    }
   ],
   "source": [
    "models_dict\n"
   ]
  },
  {
   "cell_type": "code",
   "execution_count": 36,
   "id": "armed-scale",
   "metadata": {},
   "outputs": [
    {
     "data": {
      "text/plain": [
       "{'learning_rate': [0.01, 0.1, 0.2, 0.3],\n",
       " 'n_estimators': [300, 500, 1500],\n",
       " 'colsample_bytree': [0.5, 0.7, 1]}"
      ]
     },
     "execution_count": 36,
     "metadata": {},
     "output_type": "execute_result"
    }
   ],
   "source": [
    "new_lightgbm_params = {\"learning_rate\" : [0.01, 0.1, 0.2, 0.3],\n",
    "                       \"n_estimators\" : [300,500,1500],\n",
    "                       \"colsample_bytree\": [0.5, 0.7, 1]}\n",
    "new_lightgbm_params"
   ]
  },
  {
   "cell_type": "code",
   "execution_count": 38,
   "id": "endless-snapshot",
   "metadata": {},
   "outputs": [],
   "source": [
    "def val_curve_params(estimator, X ,y , param_name, param_range, scoring, cv = 5 ):\n",
    "    \n",
    "    train_scores ,test_scores = validation_curve(estimator = estimator, \n",
    "                                                 X = X,\n",
    "                                                 y = y,\n",
    "                                                 cv = cv,\n",
    "                                                 param_name = param_name,\n",
    "                                                 param_range = param_range,\n",
    "                                                 n_jobs = -1,\n",
    "                                                 verbose = 0,\n",
    "                                                 scoring = scoring)\n",
    "    \n",
    "    mean_train_scores = np.mean(train_scores, axis = 1)\n",
    "    mean_test_scores = np.mean(test_scores, axis = 1)\n",
    "    \n",
    "    plt.plot(param_range, mean_train_scores, label = \" TRANING SCORES \", color = \"g\")\n",
    "    plt.plot(param_range, mean_test_scores, label = \" VALIDATION SCORES \", color = \"r\")\n",
    "    \n",
    "    plt.title(f\"Validation Curve For {type(estimator).__name__.upper()}\")\n",
    "    plt.xlabel(f\"Number Of {param_range} : {param_name}\")\n",
    "    plt.ylabel(f\"{scoring}\")\n",
    "    plt.legend(loc = \"best\")\n",
    "    plt.show()"
   ]
  },
  {
   "cell_type": "code",
   "execution_count": 38,
   "id": "basic-entertainment",
   "metadata": {},
   "outputs": [
    {
     "name": "stdout",
     "output_type": "stream",
     "text": [
      "learning_rate : 0.01\n",
      "n_estimators : 1500\n",
      "colsample_bytree : 0.5\n"
     ]
    }
   ],
   "source": [
    "for i in new_lightgbm_params:\n",
    "    print(i,\":\",models_dict[\"LightGBM\"].get_params()[i])"
   ]
  },
  {
   "cell_type": "code",
   "execution_count": 39,
   "id": "moved-quantity",
   "metadata": {},
   "outputs": [
    {
     "data": {
      "image/png": "[encoded data removed]",
      "text/plain": [
       "<Figure size 432x288 with 1 Axes>"
      ]
     },
     "metadata": {
      "needs_background": "light"
     },
     "output_type": "display_data"
    },
    {
     "data": {
      "image/png": "[encoded data removed]",
      "text/plain": [
       "<Figure size 432x288 with 1 Axes>"
      ]
     },
     "metadata": {
      "needs_background": "light"
     },
     "output_type": "display_data"
    },
    {
     "data": {
      "image/png": "[encoded data removed]",
      "text/plain": [
       "<Figure size 432x288 with 1 Axes>"
      ]
     },
     "metadata": {
      "needs_background": "light"
     },
     "output_type": "display_data"
    }
   ],
   "source": [
    "for i in new_lightgbm_params:\n",
    "    \n",
    "    val_curve_params(estimator = models_dict[\"LightGBM\"], \n",
    "                     X = X, \n",
    "                     y = y, \n",
    "                     param_name = i,\n",
    "                     param_range = new_lightgbm_params[i],\n",
    "                     scoring=\"neg_mean_squared_error\")"
   ]
  },
  {
   "cell_type": "code",
   "execution_count": 40,
   "id": "assured-uganda",
   "metadata": {},
   "outputs": [],
   "source": [
    "######################################################\n",
    "# Prediction for a New Observation\n",
    "######################################################"
   ]
  },
  {
   "cell_type": "code",
   "execution_count": 41,
   "id": "another-machine",
   "metadata": {},
   "outputs": [
    {
     "data": {
      "text/plain": [
       "array([11.75587949])"
      ]
     },
     "execution_count": 41,
     "metadata": {},
     "output_type": "execute_result"
    }
   ],
   "source": [
    "random_select = X.sample(1, random_state = 14)\n",
    "random_target = y.loc[random_select.index].values\n",
    "random_target"
   ]
  },
  {
   "cell_type": "code",
   "execution_count": 42,
   "id": "victorian-corporation",
   "metadata": {},
   "outputs": [
    {
     "data": {
      "text/plain": [
       "array([11.78288825])"
      ]
     },
     "execution_count": 42,
     "metadata": {},
     "output_type": "execute_result"
    }
   ],
   "source": [
    "models_dict[\"LightGBM\"].predict(random_select)"
   ]
  },
  {
   "cell_type": "code",
   "execution_count": 43,
   "id": "cosmetic-transcription",
   "metadata": {},
   "outputs": [],
   "source": [
    "######################################\n",
    "# Actual Values vs Estimated Value\n",
    "######################################"
   ]
  },
  {
   "cell_type": "code",
   "execution_count": 44,
   "id": "backed-dynamics",
   "metadata": {},
   "outputs": [
    {
     "data": {
      "image/png": "[encoded data removed]",
      "text/plain": [
       "<Figure size 1080x504 with 1 Axes>"
      ]
     },
     "metadata": {
      "needs_background": "light"
     },
     "output_type": "display_data"
    }
   ],
   "source": [
    "y_pred = models_dict[\"LightGBM\"].predict(X)\n",
    "rmse = np.sqrt(mean_squared_error(y,y_pred))\n",
    "rmse = round(rmse,4)\n",
    "\n",
    "\n",
    "plt.figure(figsize = (15,7))\n",
    "plt.plot(y,y, color = \"g\")\n",
    "plt.scatter(y_pred,y_pred, color = \"r\")\n",
    "plt.title(f\"For Train Actual Vs Estimated (RMSE : {rmse})\")\n",
    "plt.show()"
   ]
  },
  {
   "cell_type": "code",
   "execution_count": 45,
   "id": "pacific-brick",
   "metadata": {},
   "outputs": [],
   "source": [
    "######################################\n",
    "#Loading Results\n",
    "######################################"
   ]
  },
  {
   "cell_type": "code",
   "execution_count": 46,
   "id": "accompanied-preserve",
   "metadata": {},
   "outputs": [],
   "source": [
    "submission_df = pd.DataFrame()\n",
    "submission_df[\"Id\"] = test_df[\"Id\"].astype(int)"
   ]
  },
  {
   "cell_type": "code",
   "execution_count": 47,
   "id": "subtle-backup",
   "metadata": {},
   "outputs": [],
   "source": [
    "y_pred_sub = models_dict[\"LightGBM\"].predict(test_df.drop(\"Id\",axis = 1))\n",
    "y_pred_sub = np.expm1(y_pred_sub)\n",
    "\n",
    "submission_df[\"SalePrice\"] = y_pred_sub\n",
    "submission_df.to_csv(\"submission.csv\",index = False)\n"
   ]
  },
  {
   "cell_type": "code",
   "execution_count": 48,
   "id": "suited-product",
   "metadata": {},
   "outputs": [
    {
     "data": {
      "text/html": [
       "<div>\n",
       "<style scoped>\n",
       "    .dataframe tbody tr th:only-of-type {\n",
       "        vertical-align: middle;\n",
       "    }\n",
       "\n",
       "    .dataframe tbody tr th {\n",
       "        vertical-align: top;\n",
       "    }\n",
       "\n",
       "    .dataframe thead th {\n",
       "        text-align: right;\n",
       "    }\n",
       "</style>\n",
       "<table border=\"1\" class=\"dataframe\">\n",
       "  <thead>\n",
       "    <tr style=\"text-align: right;\">\n",
       "      <th></th>\n",
       "      <th>Id</th>\n",
       "      <th>SalePrice</th>\n",
       "    </tr>\n",
       "  </thead>\n",
       "  <tbody>\n",
       "    <tr>\n",
       "      <th>1460</th>\n",
       "      <td>1461</td>\n",
       "      <td>111127.262344</td>\n",
       "    </tr>\n",
       "    <tr>\n",
       "      <th>1461</th>\n",
       "      <td>1462</td>\n",
       "      <td>163107.299884</td>\n",
       "    </tr>\n",
       "    <tr>\n",
       "      <th>1462</th>\n",
       "      <td>1463</td>\n",
       "      <td>188965.312132</td>\n",
       "    </tr>\n",
       "    <tr>\n",
       "      <th>1463</th>\n",
       "      <td>1464</td>\n",
       "      <td>192344.851946</td>\n",
       "    </tr>\n",
       "    <tr>\n",
       "      <th>1464</th>\n",
       "      <td>1465</td>\n",
       "      <td>180198.189687</td>\n",
       "    </tr>\n",
       "    <tr>\n",
       "      <th>...</th>\n",
       "      <td>...</td>\n",
       "      <td>...</td>\n",
       "    </tr>\n",
       "    <tr>\n",
       "      <th>2914</th>\n",
       "      <td>2915</td>\n",
       "      <td>84263.960583</td>\n",
       "    </tr>\n",
       "    <tr>\n",
       "      <th>2915</th>\n",
       "      <td>2916</td>\n",
       "      <td>80694.202352</td>\n",
       "    </tr>\n",
       "    <tr>\n",
       "      <th>2916</th>\n",
       "      <td>2917</td>\n",
       "      <td>163815.522895</td>\n",
       "    </tr>\n",
       "    <tr>\n",
       "      <th>2917</th>\n",
       "      <td>2918</td>\n",
       "      <td>116671.994961</td>\n",
       "    </tr>\n",
       "    <tr>\n",
       "      <th>2918</th>\n",
       "      <td>2919</td>\n",
       "      <td>205811.374300</td>\n",
       "    </tr>\n",
       "  </tbody>\n",
       "</table>\n",
       "<p>1459 rows × 2 columns</p>\n",
       "</div>"
      ],
      "text/plain": [
       "        Id      SalePrice\n",
       "1460  1461  111127.262344\n",
       "1461  1462  163107.299884\n",
       "1462  1463  188965.312132\n",
       "1463  1464  192344.851946\n",
       "1464  1465  180198.189687\n",
       "...    ...            ...\n",
       "2914  2915   84263.960583\n",
       "2915  2916   80694.202352\n",
       "2916  2917  163815.522895\n",
       "2917  2918  116671.994961\n",
       "2918  2919  205811.374300\n",
       "\n",
       "[1459 rows x 2 columns]"
      ]
     },
     "execution_count": 48,
     "metadata": {},
     "output_type": "execute_result"
    }
   ],
   "source": [
    "submission_df"
   ]
  },
  {
   "cell_type": "code",
   "execution_count": null,
   "id": "chubby-century",
   "metadata": {},
   "outputs": [],
   "source": []
  },
  {
   "cell_type": "code",
   "execution_count": 49,
   "id": "special-mainstream",
   "metadata": {},
   "outputs": [],
   "source": [
    "################################\n",
    "# Principal Component Analysis\n",
    "################################"
   ]
  },
  {
   "cell_type": "code",
   "execution_count": 14,
   "id": "efficient-prophet",
   "metadata": {},
   "outputs": [
    {
     "name": "stdout",
     "output_type": "stream",
     "text": [
      "Observations : 2919\n",
      "Variables : 173\n",
      "Cat Cols : 135\n",
      "Num Cols : 38\n",
      "Cat But Car : 0\n",
      "Num But Cat : 135\n"
     ]
    }
   ],
   "source": [
    "cat_cols, num_cols, cat_but_car =grab_col_names(df,details=True)"
   ]
  },
  {
   "cell_type": "code",
   "execution_count": 15,
   "id": "settled-concern",
   "metadata": {},
   "outputs": [
    {
     "data": {
      "text/plain": [
       "True"
      ]
     },
     "execution_count": 15,
     "metadata": {},
     "output_type": "execute_result"
    }
   ],
   "source": [
    "scaler_num_cols == [col for col in num_cols if col not in [\"Id\",\"SalePrice\"]]"
   ]
  },
  {
   "cell_type": "code",
   "execution_count": 16,
   "id": "destroyed-wagner",
   "metadata": {},
   "outputs": [
    {
     "data": {
      "text/plain": [
       "array([[ 1.47727867e+00, -1.16803529e+00, -1.54626504e+00, ...,\n",
       "        -3.78299755e-03, -1.09505337e-02,  1.65064087e-16],\n",
       "       [-8.35608002e-02, -3.55397377e-01,  2.05881541e+00, ...,\n",
       "         9.35399849e-03, -1.27354583e-02,  1.42409098e-16],\n",
       "       [ 1.94705142e+00, -6.44176416e-01, -1.83599336e+00, ...,\n",
       "        -5.06893294e-03, -2.93040663e-03,  2.78429540e-17],\n",
       "       ...,\n",
       "       [ 1.00728637e+00,  1.35700705e+00,  1.58472422e+00, ...,\n",
       "         2.16672037e-02, -5.39817578e-02,  5.21807977e-17],\n",
       "       [-2.97634688e+00, -5.51003203e-01, -7.97120712e-01, ...,\n",
       "        -1.77604197e-02,  2.28371838e-02, -2.85262342e-17],\n",
       "       [ 1.68009743e+00,  5.52551312e-01,  2.26959281e-01, ...,\n",
       "         1.20386022e-02, -3.91783862e-02, -2.07025597e-17]])"
      ]
     },
     "execution_count": 16,
     "metadata": {},
     "output_type": "execute_result"
    }
   ],
   "source": [
    "from sklearn.preprocessing import StandardScaler\n",
    "\n",
    "scaler = StandardScaler()\n",
    "df[scaler_num_cols] = scaler.fit_transform(df[scaler_num_cols])\n",
    "\n",
    "pca = PCA()\n",
    "pca_fit = pca.fit_transform(df[scaler_num_cols])\n",
    "pca_fit"
   ]
  },
  {
   "cell_type": "code",
   "execution_count": 17,
   "id": "modern-company",
   "metadata": {},
   "outputs": [
    {
     "data": {
      "text/plain": [
       "array([0.22863172, 0.31369523, 0.38465002, 0.43865319, 0.48931986,\n",
       "       0.53485823, 0.57641781, 0.61358857, 0.64598613, 0.67636382,\n",
       "       0.70533622, 0.73343827, 0.76107625, 0.78763241, 0.81402568,\n",
       "       0.8400135 , 0.86467967, 0.88798534, 0.90869468, 0.92769201,\n",
       "       0.94425349, 0.9574263 , 0.96710952, 0.97626807, 0.9838274 ,\n",
       "       0.98848787, 0.9928456 , 0.99598414, 0.99791493, 0.99886858,\n",
       "       0.99922164, 0.99955085, 0.99975223, 0.99988276, 1.        ,\n",
       "       1.        ])"
      ]
     },
     "execution_count": 17,
     "metadata": {},
     "output_type": "execute_result"
    }
   ],
   "source": [
    "np.cumsum(pca.explained_variance_ratio_)"
   ]
  },
  {
   "cell_type": "code",
   "execution_count": 18,
   "id": "crude-prediction",
   "metadata": {},
   "outputs": [],
   "source": [
    "################################\n",
    "# Optimum Number of Components\n",
    "################################"
   ]
  },
  {
   "cell_type": "code",
   "execution_count": 21,
   "id": "personalized-makeup",
   "metadata": {},
   "outputs": [],
   "source": [
    "number_size = len(np.cumsum(pca.explained_variance_ratio_))"
   ]
  },
  {
   "cell_type": "code",
   "execution_count": 22,
   "id": "steady-brave",
   "metadata": {},
   "outputs": [
    {
     "data": {
      "image/png": "[encoded data removed]",
      "text/plain": [
       "<Figure size 1080x720 with 1 Axes>"
      ]
     },
     "metadata": {},
     "output_type": "display_data"
    }
   ],
   "source": [
    "plt.figure(figsize = (15,10))\n",
    "plt.plot(np.cumsum(pca.explained_variance_ratio_)* 100,\"--\",color = \"g\")\n",
    "plt.plot(15,84,\"o\",color = \"r\", markersize = 20)\n",
    "\n",
    "plt.axhline(84,linestyle = \"--\",color =\"purple\",linewidth = .5)\n",
    "plt.axvline(15,linestyle = \"--\",color =\"purple\",linewidth = .5)\n",
    "\n",
    "plt.xticks(range(0,number_size))\n",
    "plt.yticks(range(22,100))\n",
    "\n",
    "size = 15\n",
    "plt.title(\"PCA Graph\",fontsize = size)\n",
    "plt.xlabel(\"Number of Components\" , fontsize = size)\n",
    "plt.ylabel(\"Cumulative Rate of Variance\" , fontsize = size)\n",
    "\n",
    "plt.xlim([10,25])\n",
    "plt.ylim([65,100])\n",
    "sns.set()\n",
    "\n",
    "plt.tight_layout()\n",
    "plt.show()"
   ]
  },
  {
   "cell_type": "code",
   "execution_count": 23,
   "id": "suitable-threat",
   "metadata": {},
   "outputs": [],
   "source": [
    "################################\n",
    "# Creation of Final PCA\n",
    "################################"
   ]
  },
  {
   "cell_type": "code",
   "execution_count": 24,
   "id": "palestinian-renaissance",
   "metadata": {},
   "outputs": [
    {
     "data": {
      "text/plain": [
       "array([0.22863172, 0.31369523, 0.38465002, 0.43865319, 0.48931986,\n",
       "       0.53485823, 0.57641781, 0.61358857, 0.64598613, 0.67636382,\n",
       "       0.70533622, 0.73343827, 0.76107625, 0.78763241, 0.81402567])"
      ]
     },
     "execution_count": 24,
     "metadata": {},
     "output_type": "execute_result"
    }
   ],
   "source": [
    "final_pca = PCA(n_components=15)\n",
    "final_pca_fit = final_pca.fit_transform(df[scaler_num_cols])\n",
    "\n",
    "np.cumsum(final_pca.explained_variance_ratio_)"
   ]
  },
  {
   "cell_type": "code",
   "execution_count": 25,
   "id": "lyric-masters",
   "metadata": {},
   "outputs": [
    {
     "name": "stdout",
     "output_type": "stream",
     "text": [
      "Final PCA Shape : (2919, 15)\n"
     ]
    }
   ],
   "source": [
    "print(\"Final PCA Shape : {}\".format(final_pca_fit.shape))"
   ]
  },
  {
   "cell_type": "code",
   "execution_count": 26,
   "id": "christian-county",
   "metadata": {},
   "outputs": [
    {
     "data": {
      "text/html": [
       "<div>\n",
       "<style scoped>\n",
       "    .dataframe tbody tr th:only-of-type {\n",
       "        vertical-align: middle;\n",
       "    }\n",
       "\n",
       "    .dataframe tbody tr th {\n",
       "        vertical-align: top;\n",
       "    }\n",
       "\n",
       "    .dataframe thead th {\n",
       "        text-align: right;\n",
       "    }\n",
       "</style>\n",
       "<table border=\"1\" class=\"dataframe\">\n",
       "  <thead>\n",
       "    <tr style=\"text-align: right;\">\n",
       "      <th></th>\n",
       "      <th>PCA_1</th>\n",
       "      <th>PCA_2</th>\n",
       "      <th>PCA_3</th>\n",
       "      <th>PCA_4</th>\n",
       "      <th>PCA_5</th>\n",
       "      <th>PCA_6</th>\n",
       "      <th>PCA_7</th>\n",
       "      <th>PCA_8</th>\n",
       "      <th>PCA_9</th>\n",
       "      <th>PCA_10</th>\n",
       "      <th>PCA_11</th>\n",
       "      <th>PCA_12</th>\n",
       "      <th>PCA_13</th>\n",
       "      <th>PCA_14</th>\n",
       "      <th>PCA_15</th>\n",
       "    </tr>\n",
       "  </thead>\n",
       "  <tbody>\n",
       "    <tr>\n",
       "      <th>0</th>\n",
       "      <td>1.477279</td>\n",
       "      <td>-1.168035</td>\n",
       "      <td>-1.546265</td>\n",
       "      <td>0.159094</td>\n",
       "      <td>1.598277</td>\n",
       "      <td>-0.644008</td>\n",
       "      <td>-1.588470</td>\n",
       "      <td>0.791407</td>\n",
       "      <td>0.642751</td>\n",
       "      <td>0.143916</td>\n",
       "      <td>0.675788</td>\n",
       "      <td>-0.011076</td>\n",
       "      <td>0.583474</td>\n",
       "      <td>-0.229505</td>\n",
       "      <td>-0.083585</td>\n",
       "    </tr>\n",
       "    <tr>\n",
       "      <th>1</th>\n",
       "      <td>-0.083561</td>\n",
       "      <td>-0.355398</td>\n",
       "      <td>2.058814</td>\n",
       "      <td>0.181261</td>\n",
       "      <td>0.293543</td>\n",
       "      <td>-0.888009</td>\n",
       "      <td>0.463777</td>\n",
       "      <td>0.166117</td>\n",
       "      <td>-1.177152</td>\n",
       "      <td>1.212508</td>\n",
       "      <td>-1.034010</td>\n",
       "      <td>0.226907</td>\n",
       "      <td>0.420854</td>\n",
       "      <td>-0.505900</td>\n",
       "      <td>1.552790</td>\n",
       "    </tr>\n",
       "    <tr>\n",
       "      <th>2</th>\n",
       "      <td>1.947051</td>\n",
       "      <td>-0.644177</td>\n",
       "      <td>-1.835994</td>\n",
       "      <td>-0.054055</td>\n",
       "      <td>0.833093</td>\n",
       "      <td>-0.083145</td>\n",
       "      <td>-1.729242</td>\n",
       "      <td>0.130554</td>\n",
       "      <td>1.179874</td>\n",
       "      <td>0.340880</td>\n",
       "      <td>-0.385239</td>\n",
       "      <td>0.272051</td>\n",
       "      <td>-1.140393</td>\n",
       "      <td>0.396836</td>\n",
       "      <td>-0.233934</td>\n",
       "    </tr>\n",
       "    <tr>\n",
       "      <th>3</th>\n",
       "      <td>-0.465305</td>\n",
       "      <td>2.863549</td>\n",
       "      <td>-2.605261</td>\n",
       "      <td>-0.187641</td>\n",
       "      <td>-0.524534</td>\n",
       "      <td>-0.778500</td>\n",
       "      <td>1.078020</td>\n",
       "      <td>-0.560175</td>\n",
       "      <td>1.906356</td>\n",
       "      <td>0.638038</td>\n",
       "      <td>0.461833</td>\n",
       "      <td>-0.187975</td>\n",
       "      <td>0.537040</td>\n",
       "      <td>-1.974334</td>\n",
       "      <td>-1.457267</td>\n",
       "    </tr>\n",
       "    <tr>\n",
       "      <th>4</th>\n",
       "      <td>4.455521</td>\n",
       "      <td>0.575687</td>\n",
       "      <td>-1.358721</td>\n",
       "      <td>-0.292908</td>\n",
       "      <td>0.890430</td>\n",
       "      <td>-0.603799</td>\n",
       "      <td>-1.274181</td>\n",
       "      <td>-0.138980</td>\n",
       "      <td>-0.506819</td>\n",
       "      <td>0.168494</td>\n",
       "      <td>0.456235</td>\n",
       "      <td>-0.202066</td>\n",
       "      <td>0.851616</td>\n",
       "      <td>-0.732228</td>\n",
       "      <td>0.180911</td>\n",
       "    </tr>\n",
       "    <tr>\n",
       "      <th>...</th>\n",
       "      <td>...</td>\n",
       "      <td>...</td>\n",
       "      <td>...</td>\n",
       "      <td>...</td>\n",
       "      <td>...</td>\n",
       "      <td>...</td>\n",
       "      <td>...</td>\n",
       "      <td>...</td>\n",
       "      <td>...</td>\n",
       "      <td>...</td>\n",
       "      <td>...</td>\n",
       "      <td>...</td>\n",
       "      <td>...</td>\n",
       "      <td>...</td>\n",
       "      <td>...</td>\n",
       "    </tr>\n",
       "    <tr>\n",
       "      <th>2914</th>\n",
       "      <td>-5.196648</td>\n",
       "      <td>-1.318020</td>\n",
       "      <td>-0.140014</td>\n",
       "      <td>-0.313919</td>\n",
       "      <td>2.108964</td>\n",
       "      <td>2.029130</td>\n",
       "      <td>1.543659</td>\n",
       "      <td>2.114772</td>\n",
       "      <td>-0.820244</td>\n",
       "      <td>-0.687414</td>\n",
       "      <td>-0.559860</td>\n",
       "      <td>0.027148</td>\n",
       "      <td>-0.276942</td>\n",
       "      <td>0.354566</td>\n",
       "      <td>-0.337148</td>\n",
       "    </tr>\n",
       "    <tr>\n",
       "      <th>2915</th>\n",
       "      <td>-3.797843</td>\n",
       "      <td>-1.988721</td>\n",
       "      <td>0.706243</td>\n",
       "      <td>-0.035381</td>\n",
       "      <td>2.572816</td>\n",
       "      <td>1.343263</td>\n",
       "      <td>0.250930</td>\n",
       "      <td>-0.269721</td>\n",
       "      <td>1.027396</td>\n",
       "      <td>-0.341311</td>\n",
       "      <td>0.210800</td>\n",
       "      <td>-0.048901</td>\n",
       "      <td>0.412971</td>\n",
       "      <td>0.085990</td>\n",
       "      <td>-0.161386</td>\n",
       "    </tr>\n",
       "    <tr>\n",
       "      <th>2916</th>\n",
       "      <td>1.007286</td>\n",
       "      <td>1.357007</td>\n",
       "      <td>1.584724</td>\n",
       "      <td>0.320581</td>\n",
       "      <td>-1.105773</td>\n",
       "      <td>-3.764040</td>\n",
       "      <td>0.512125</td>\n",
       "      <td>-0.996019</td>\n",
       "      <td>-1.320945</td>\n",
       "      <td>1.715440</td>\n",
       "      <td>-0.917463</td>\n",
       "      <td>0.362178</td>\n",
       "      <td>-1.879635</td>\n",
       "      <td>-0.247163</td>\n",
       "      <td>0.612519</td>\n",
       "    </tr>\n",
       "    <tr>\n",
       "      <th>2917</th>\n",
       "      <td>-2.976347</td>\n",
       "      <td>-0.550997</td>\n",
       "      <td>-0.797106</td>\n",
       "      <td>0.271220</td>\n",
       "      <td>-0.133714</td>\n",
       "      <td>-0.222901</td>\n",
       "      <td>0.337439</td>\n",
       "      <td>1.994573</td>\n",
       "      <td>-3.140108</td>\n",
       "      <td>0.556309</td>\n",
       "      <td>-0.526862</td>\n",
       "      <td>1.050346</td>\n",
       "      <td>-0.932666</td>\n",
       "      <td>0.669052</td>\n",
       "      <td>-0.026822</td>\n",
       "    </tr>\n",
       "    <tr>\n",
       "      <th>2918</th>\n",
       "      <td>1.680097</td>\n",
       "      <td>0.552550</td>\n",
       "      <td>0.226957</td>\n",
       "      <td>-0.734297</td>\n",
       "      <td>2.611988</td>\n",
       "      <td>0.413137</td>\n",
       "      <td>-0.639515</td>\n",
       "      <td>0.186531</td>\n",
       "      <td>-0.957614</td>\n",
       "      <td>0.304261</td>\n",
       "      <td>0.273232</td>\n",
       "      <td>-0.479873</td>\n",
       "      <td>1.112152</td>\n",
       "      <td>-0.398391</td>\n",
       "      <td>0.264137</td>\n",
       "    </tr>\n",
       "  </tbody>\n",
       "</table>\n",
       "<p>2919 rows × 15 columns</p>\n",
       "</div>"
      ],
      "text/plain": [
       "         PCA_1     PCA_2     PCA_3     PCA_4     PCA_5     PCA_6     PCA_7  \\\n",
       "0     1.477279 -1.168035 -1.546265  0.159094  1.598277 -0.644008 -1.588470   \n",
       "1    -0.083561 -0.355398  2.058814  0.181261  0.293543 -0.888009  0.463777   \n",
       "2     1.947051 -0.644177 -1.835994 -0.054055  0.833093 -0.083145 -1.729242   \n",
       "3    -0.465305  2.863549 -2.605261 -0.187641 -0.524534 -0.778500  1.078020   \n",
       "4     4.455521  0.575687 -1.358721 -0.292908  0.890430 -0.603799 -1.274181   \n",
       "...        ...       ...       ...       ...       ...       ...       ...   \n",
       "2914 -5.196648 -1.318020 -0.140014 -0.313919  2.108964  2.029130  1.543659   \n",
       "2915 -3.797843 -1.988721  0.706243 -0.035381  2.572816  1.343263  0.250930   \n",
       "2916  1.007286  1.357007  1.584724  0.320581 -1.105773 -3.764040  0.512125   \n",
       "2917 -2.976347 -0.550997 -0.797106  0.271220 -0.133714 -0.222901  0.337439   \n",
       "2918  1.680097  0.552550  0.226957 -0.734297  2.611988  0.413137 -0.639515   \n",
       "\n",
       "         PCA_8     PCA_9    PCA_10    PCA_11    PCA_12    PCA_13    PCA_14  \\\n",
       "0     0.791407  0.642751  0.143916  0.675788 -0.011076  0.583474 -0.229505   \n",
       "1     0.166117 -1.177152  1.212508 -1.034010  0.226907  0.420854 -0.505900   \n",
       "2     0.130554  1.179874  0.340880 -0.385239  0.272051 -1.140393  0.396836   \n",
       "3    -0.560175  1.906356  0.638038  0.461833 -0.187975  0.537040 -1.974334   \n",
       "4    -0.138980 -0.506819  0.168494  0.456235 -0.202066  0.851616 -0.732228   \n",
       "...        ...       ...       ...       ...       ...       ...       ...   \n",
       "2914  2.114772 -0.820244 -0.687414 -0.559860  0.027148 -0.276942  0.354566   \n",
       "2915 -0.269721  1.027396 -0.341311  0.210800 -0.048901  0.412971  0.085990   \n",
       "2916 -0.996019 -1.320945  1.715440 -0.917463  0.362178 -1.879635 -0.247163   \n",
       "2917  1.994573 -3.140108  0.556309 -0.526862  1.050346 -0.932666  0.669052   \n",
       "2918  0.186531 -0.957614  0.304261  0.273232 -0.479873  1.112152 -0.398391   \n",
       "\n",
       "        PCA_15  \n",
       "0    -0.083585  \n",
       "1     1.552790  \n",
       "2    -0.233934  \n",
       "3    -1.457267  \n",
       "4     0.180911  \n",
       "...        ...  \n",
       "2914 -0.337148  \n",
       "2915 -0.161386  \n",
       "2916  0.612519  \n",
       "2917 -0.026822  \n",
       "2918  0.264137  \n",
       "\n",
       "[2919 rows x 15 columns]"
      ]
     },
     "execution_count": 26,
     "metadata": {},
     "output_type": "execute_result"
    }
   ],
   "source": [
    "pca_columns = [\"PCA_\"+str(i) for i in range(1,16)]\n",
    "\n",
    "pca_data = pd.DataFrame(data = final_pca_fit, columns = pca_columns)\n",
    "pca_data"
   ]
  },
  {
   "cell_type": "code",
   "execution_count": 27,
   "id": "liquid-sunglasses",
   "metadata": {},
   "outputs": [
    {
     "name": "stdout",
     "output_type": "stream",
     "text": [
      "DataFrame Shape : (2919, 173)\n"
     ]
    }
   ],
   "source": [
    "print(\"DataFrame Shape : {}\".format(df.shape))"
   ]
  },
  {
   "cell_type": "code",
   "execution_count": 28,
   "id": "weighted-canal",
   "metadata": {},
   "outputs": [
    {
     "name": "stdout",
     "output_type": "stream",
     "text": [
      "PCA DataFrame Shape : (2919, 152)\n"
     ]
    }
   ],
   "source": [
    "drop_df = df.drop(scaler_num_cols, axis = 1)\n",
    "pca_df = pd.concat([drop_df,pca_data],axis = 1)\n",
    "\n",
    "print(\"PCA DataFrame Shape : {}\".format(pca_df.shape))"
   ]
  },
  {
   "cell_type": "code",
   "execution_count": 29,
   "id": "checked-belle",
   "metadata": {},
   "outputs": [
    {
     "data": {
      "text/html": [
       "<div>\n",
       "<style scoped>\n",
       "    .dataframe tbody tr th:only-of-type {\n",
       "        vertical-align: middle;\n",
       "    }\n",
       "\n",
       "    .dataframe tbody tr th {\n",
       "        vertical-align: top;\n",
       "    }\n",
       "\n",
       "    .dataframe thead th {\n",
       "        text-align: right;\n",
       "    }\n",
       "</style>\n",
       "<table border=\"1\" class=\"dataframe\">\n",
       "  <thead>\n",
       "    <tr style=\"text-align: right;\">\n",
       "      <th></th>\n",
       "      <th>Id</th>\n",
       "      <th>Neighborhood</th>\n",
       "      <th>Condition1</th>\n",
       "      <th>Condition2</th>\n",
       "      <th>HouseStyle</th>\n",
       "      <th>OverallQual</th>\n",
       "      <th>OverallCond</th>\n",
       "      <th>BedroomAbvGr</th>\n",
       "      <th>TotRmsAbvGrd</th>\n",
       "      <th>FireplaceQu</th>\n",
       "      <th>...</th>\n",
       "      <th>PCA_6</th>\n",
       "      <th>PCA_7</th>\n",
       "      <th>PCA_8</th>\n",
       "      <th>PCA_9</th>\n",
       "      <th>PCA_10</th>\n",
       "      <th>PCA_11</th>\n",
       "      <th>PCA_12</th>\n",
       "      <th>PCA_13</th>\n",
       "      <th>PCA_14</th>\n",
       "      <th>PCA_15</th>\n",
       "    </tr>\n",
       "  </thead>\n",
       "  <tbody>\n",
       "    <tr>\n",
       "      <th>0</th>\n",
       "      <td>1.0</td>\n",
       "      <td>4.0</td>\n",
       "      <td>4.0</td>\n",
       "      <td>4.0</td>\n",
       "      <td>2.0</td>\n",
       "      <td>5.0</td>\n",
       "      <td>5.0</td>\n",
       "      <td>3.0</td>\n",
       "      <td>6.0</td>\n",
       "      <td>2.0</td>\n",
       "      <td>...</td>\n",
       "      <td>-0.644008</td>\n",
       "      <td>-1.588470</td>\n",
       "      <td>0.791407</td>\n",
       "      <td>0.642751</td>\n",
       "      <td>0.143916</td>\n",
       "      <td>0.675788</td>\n",
       "      <td>-0.011076</td>\n",
       "      <td>0.583474</td>\n",
       "      <td>-0.229505</td>\n",
       "      <td>-0.083585</td>\n",
       "    </tr>\n",
       "    <tr>\n",
       "      <th>1</th>\n",
       "      <td>2.0</td>\n",
       "      <td>6.0</td>\n",
       "      <td>2.0</td>\n",
       "      <td>4.0</td>\n",
       "      <td>1.0</td>\n",
       "      <td>4.0</td>\n",
       "      <td>8.0</td>\n",
       "      <td>3.0</td>\n",
       "      <td>4.0</td>\n",
       "      <td>4.0</td>\n",
       "      <td>...</td>\n",
       "      <td>-0.888009</td>\n",
       "      <td>0.463777</td>\n",
       "      <td>0.166117</td>\n",
       "      <td>-1.177152</td>\n",
       "      <td>1.212508</td>\n",
       "      <td>-1.034010</td>\n",
       "      <td>0.226907</td>\n",
       "      <td>0.420854</td>\n",
       "      <td>-0.505900</td>\n",
       "      <td>1.552790</td>\n",
       "    </tr>\n",
       "    <tr>\n",
       "      <th>2</th>\n",
       "      <td>3.0</td>\n",
       "      <td>4.0</td>\n",
       "      <td>4.0</td>\n",
       "      <td>4.0</td>\n",
       "      <td>2.0</td>\n",
       "      <td>5.0</td>\n",
       "      <td>5.0</td>\n",
       "      <td>3.0</td>\n",
       "      <td>4.0</td>\n",
       "      <td>4.0</td>\n",
       "      <td>...</td>\n",
       "      <td>-0.083145</td>\n",
       "      <td>-1.729242</td>\n",
       "      <td>0.130554</td>\n",
       "      <td>1.179874</td>\n",
       "      <td>0.340880</td>\n",
       "      <td>-0.385239</td>\n",
       "      <td>0.272051</td>\n",
       "      <td>-1.140393</td>\n",
       "      <td>0.396836</td>\n",
       "      <td>-0.233934</td>\n",
       "    </tr>\n",
       "    <tr>\n",
       "      <th>3</th>\n",
       "      <td>4.0</td>\n",
       "      <td>5.0</td>\n",
       "      <td>4.0</td>\n",
       "      <td>4.0</td>\n",
       "      <td>2.0</td>\n",
       "      <td>5.0</td>\n",
       "      <td>5.0</td>\n",
       "      <td>3.0</td>\n",
       "      <td>5.0</td>\n",
       "      <td>5.0</td>\n",
       "      <td>...</td>\n",
       "      <td>-0.778500</td>\n",
       "      <td>1.078020</td>\n",
       "      <td>-0.560175</td>\n",
       "      <td>1.906356</td>\n",
       "      <td>0.638038</td>\n",
       "      <td>0.461833</td>\n",
       "      <td>-0.187975</td>\n",
       "      <td>0.537040</td>\n",
       "      <td>-1.974334</td>\n",
       "      <td>-1.457267</td>\n",
       "    </tr>\n",
       "    <tr>\n",
       "      <th>4</th>\n",
       "      <td>5.0</td>\n",
       "      <td>7.0</td>\n",
       "      <td>4.0</td>\n",
       "      <td>4.0</td>\n",
       "      <td>2.0</td>\n",
       "      <td>6.0</td>\n",
       "      <td>5.0</td>\n",
       "      <td>4.0</td>\n",
       "      <td>7.0</td>\n",
       "      <td>4.0</td>\n",
       "      <td>...</td>\n",
       "      <td>-0.603799</td>\n",
       "      <td>-1.274181</td>\n",
       "      <td>-0.138980</td>\n",
       "      <td>-0.506819</td>\n",
       "      <td>0.168494</td>\n",
       "      <td>0.456235</td>\n",
       "      <td>-0.202066</td>\n",
       "      <td>0.851616</td>\n",
       "      <td>-0.732228</td>\n",
       "      <td>0.180911</td>\n",
       "    </tr>\n",
       "  </tbody>\n",
       "</table>\n",
       "<p>5 rows × 152 columns</p>\n",
       "</div>"
      ],
      "text/plain": [
       "    Id  Neighborhood  Condition1  Condition2  HouseStyle  OverallQual  \\\n",
       "0  1.0           4.0         4.0         4.0         2.0          5.0   \n",
       "1  2.0           6.0         2.0         4.0         1.0          4.0   \n",
       "2  3.0           4.0         4.0         4.0         2.0          5.0   \n",
       "3  4.0           5.0         4.0         4.0         2.0          5.0   \n",
       "4  5.0           7.0         4.0         4.0         2.0          6.0   \n",
       "\n",
       "   OverallCond  BedroomAbvGr  TotRmsAbvGrd  FireplaceQu  ...     PCA_6  \\\n",
       "0          5.0           3.0           6.0          2.0  ... -0.644008   \n",
       "1          8.0           3.0           4.0          4.0  ... -0.888009   \n",
       "2          5.0           3.0           4.0          4.0  ... -0.083145   \n",
       "3          5.0           3.0           5.0          5.0  ... -0.778500   \n",
       "4          5.0           4.0           7.0          4.0  ... -0.603799   \n",
       "\n",
       "      PCA_7     PCA_8     PCA_9    PCA_10    PCA_11    PCA_12    PCA_13  \\\n",
       "0 -1.588470  0.791407  0.642751  0.143916  0.675788 -0.011076  0.583474   \n",
       "1  0.463777  0.166117 -1.177152  1.212508 -1.034010  0.226907  0.420854   \n",
       "2 -1.729242  0.130554  1.179874  0.340880 -0.385239  0.272051 -1.140393   \n",
       "3  1.078020 -0.560175  1.906356  0.638038  0.461833 -0.187975  0.537040   \n",
       "4 -1.274181 -0.138980 -0.506819  0.168494  0.456235 -0.202066  0.851616   \n",
       "\n",
       "     PCA_14    PCA_15  \n",
       "0 -0.229505 -0.083585  \n",
       "1 -0.505900  1.552790  \n",
       "2  0.396836 -0.233934  \n",
       "3 -1.974334 -1.457267  \n",
       "4 -0.732228  0.180911  \n",
       "\n",
       "[5 rows x 152 columns]"
      ]
     },
     "execution_count": 29,
     "metadata": {},
     "output_type": "execute_result"
    }
   ],
   "source": [
    "pca_df.head()"
   ]
  },
  {
   "cell_type": "code",
   "execution_count": 30,
   "id": "cross-timeline",
   "metadata": {},
   "outputs": [],
   "source": [
    "pca_train_df = pca_df[pca_df[\"SalePrice\"].notnull()]\n",
    "pca_test_df = pca_df[pca_df[\"SalePrice\"].isnull()].drop(\"SalePrice\",axis = 1)"
   ]
  },
  {
   "cell_type": "code",
   "execution_count": 31,
   "id": "improved-omega",
   "metadata": {},
   "outputs": [],
   "source": [
    "pca_X = pca_train_df.drop([\"Id\",\"SalePrice\"],axis = 1)\n",
    "pca_Y = np.log1p(pca_train_df[\"SalePrice\"])"
   ]
  },
  {
   "cell_type": "code",
   "execution_count": 32,
   "id": "radical-flooring",
   "metadata": {},
   "outputs": [],
   "source": [
    "################################\n",
    "# Base Models\n",
    "################################"
   ]
  },
  {
   "cell_type": "code",
   "execution_count": 39,
   "id": "hispanic-blend",
   "metadata": {},
   "outputs": [
    {
     "data": {
      "text/html": [
       "<div>\n",
       "<style scoped>\n",
       "    .dataframe tbody tr th:only-of-type {\n",
       "        vertical-align: middle;\n",
       "    }\n",
       "\n",
       "    .dataframe tbody tr th {\n",
       "        vertical-align: top;\n",
       "    }\n",
       "\n",
       "    .dataframe thead th {\n",
       "        text-align: right;\n",
       "    }\n",
       "</style>\n",
       "<table border=\"1\" class=\"dataframe\">\n",
       "  <thead>\n",
       "    <tr style=\"text-align: right;\">\n",
       "      <th>NAME</th>\n",
       "      <th>GBM</th>\n",
       "      <th>LightGBM</th>\n",
       "      <th>XGBoost</th>\n",
       "      <th>CART</th>\n",
       "    </tr>\n",
       "  </thead>\n",
       "  <tbody>\n",
       "    <tr>\n",
       "      <th>RMSE</th>\n",
       "      <td>0.124828</td>\n",
       "      <td>0.129180</td>\n",
       "      <td>0.132811</td>\n",
       "      <td>0.181363</td>\n",
       "    </tr>\n",
       "    <tr>\n",
       "      <th>FIT__TIME</th>\n",
       "      <td>0.559608</td>\n",
       "      <td>0.162192</td>\n",
       "      <td>0.320413</td>\n",
       "      <td>0.033006</td>\n",
       "    </tr>\n",
       "    <tr>\n",
       "      <th>SCORE_TIME</th>\n",
       "      <td>0.002133</td>\n",
       "      <td>0.002905</td>\n",
       "      <td>0.003822</td>\n",
       "      <td>0.001954</td>\n",
       "    </tr>\n",
       "  </tbody>\n",
       "</table>\n",
       "</div>"
      ],
      "text/plain": [
       "NAME             GBM  LightGBM   XGBoost      CART\n",
       "RMSE        0.124828  0.129180  0.132811  0.181363\n",
       "FIT__TIME   0.559608  0.162192  0.320413  0.033006\n",
       "SCORE_TIME  0.002133  0.002905  0.003822  0.001954"
      ]
     },
     "execution_count": 39,
     "metadata": {},
     "output_type": "execute_result"
    }
   ],
   "source": [
    "base_model_regressors(regressors,pca_X,pca_Y,cv = 5)"
   ]
  },
  {
   "cell_type": "code",
   "execution_count": 186,
   "id": "uniform-anaheim",
   "metadata": {},
   "outputs": [],
   "source": [
    "#########################\n",
    "# HyperParameter Optimization Model\n",
    "#########################"
   ]
  },
  {
   "cell_type": "code",
   "execution_count": 40,
   "id": "incoming-biology",
   "metadata": {},
   "outputs": [],
   "source": [
    "regressors = [   \n",
    "                \n",
    "                #(\"Ridge\" , Ridge(),ridge_params),\n",
    "                #(\"Lasso\" , Lasso()),\n",
    "                #(\"ElasticNet\", ElasticNet()),\n",
    "                #(\"KNN\", KNeighborsRegressor(),knn_params),\n",
    "                (\"CART\" , DecisionTreeRegressor(),cart_params),\n",
    "                #(\"RF\",RandomForestRegressor(),rf_params),\n",
    "                #(\"SVR\", SVR()),\n",
    "                #(\"GBM\" , GradientBoostingRegressor(),gbm_params),\n",
    "                (\"XGBoost\" , XGBRegressor(objective = \"reg:squarederror\"),xgboost_params),\n",
    "                (\"LightGBM\" , LGBMRegressor(),lightgbm_params)\n",
    "            \n",
    "            ]"
   ]
  },
  {
   "cell_type": "code",
   "execution_count": 41,
   "id": "prescribed-model",
   "metadata": {},
   "outputs": [
    {
     "name": "stdout",
     "output_type": "stream",
     "text": [
      "##################################################\n",
      "\n",
      "For DECISIONTREEREGRESSOR Model\n",
      "\n",
      "Before Grid Search :\n",
      "\n",
      "RMSE : 0.18510249896601552\n",
      "\n",
      "Best Grid : {'max_depth': 6, 'min_samples_split': 21}\n",
      "\n",
      "After Grid Search:\n",
      "\n",
      "RMSE : 0.16059269297091255\n",
      "\n",
      "##################################################\n",
      "\n",
      "For XGBREGRESSOR Model\n",
      "\n",
      "Before Grid Search :\n",
      "\n",
      "RMSE : 0.132810503250086\n",
      "\n",
      "Best Grid : {'colsample_bytree': 0.5, 'learning_rate': 0.1, 'max_depth': 5, 'n_estimators': 200}\n",
      "\n",
      "After Grid Search:\n",
      "\n",
      "RMSE : 0.12379762744694352\n",
      "\n",
      "##################################################\n",
      "\n",
      "For LGBMREGRESSOR Model\n",
      "\n",
      "Before Grid Search :\n",
      "\n",
      "RMSE : 0.12918035321476032\n",
      "\n",
      "Best Grid : {'colsample_bytree': 0.5, 'learning_rate': 0.01, 'n_estimators': 1500}\n",
      "\n",
      "After Grid Search:\n",
      "\n",
      "RMSE : 0.1260330841759891\n",
      "\n"
     ]
    }
   ],
   "source": [
    "PCA_data, PCA_models_dict = hyperparameter_optimization_model(regressors,pca_X,pca_Y,cv=5)"
   ]
  },
  {
   "cell_type": "code",
   "execution_count": 43,
   "id": "consolidated-reverse",
   "metadata": {},
   "outputs": [
    {
     "data": {
      "text/html": [
       "<div>\n",
       "<style scoped>\n",
       "    .dataframe tbody tr th:only-of-type {\n",
       "        vertical-align: middle;\n",
       "    }\n",
       "\n",
       "    .dataframe tbody tr th {\n",
       "        vertical-align: top;\n",
       "    }\n",
       "\n",
       "    .dataframe thead th {\n",
       "        text-align: right;\n",
       "    }\n",
       "</style>\n",
       "<table border=\"1\" class=\"dataframe\">\n",
       "  <thead>\n",
       "    <tr style=\"text-align: right;\">\n",
       "      <th>NAME</th>\n",
       "      <th>XGBOOST</th>\n",
       "      <th>LIGHTGBM</th>\n",
       "      <th>CART</th>\n",
       "    </tr>\n",
       "  </thead>\n",
       "  <tbody>\n",
       "    <tr>\n",
       "      <th>BEFORE_RMSE</th>\n",
       "      <td>0.132811</td>\n",
       "      <td>0.129180</td>\n",
       "      <td>0.185102</td>\n",
       "    </tr>\n",
       "    <tr>\n",
       "      <th>AFTER_RMSE</th>\n",
       "      <td>0.123798</td>\n",
       "      <td>0.126033</td>\n",
       "      <td>0.160593</td>\n",
       "    </tr>\n",
       "  </tbody>\n",
       "</table>\n",
       "</div>"
      ],
      "text/plain": [
       "NAME          XGBOOST  LIGHTGBM      CART\n",
       "BEFORE_RMSE  0.132811  0.129180  0.185102\n",
       "AFTER_RMSE   0.123798  0.126033  0.160593"
      ]
     },
     "execution_count": 43,
     "metadata": {},
     "output_type": "execute_result"
    }
   ],
   "source": [
    "PCA_data"
   ]
  },
  {
   "cell_type": "code",
   "execution_count": 44,
   "id": "functional-effort",
   "metadata": {},
   "outputs": [
    {
     "data": {
      "text/plain": [
       "{'CART': DecisionTreeRegressor(max_depth=6, min_samples_split=21),\n",
       " 'XGBoost': XGBRegressor(base_score=0.5, booster='gbtree', colsample_bylevel=1,\n",
       "              colsample_bynode=1, colsample_bytree=0.5, gamma=0, gpu_id=-1,\n",
       "              importance_type='gain', interaction_constraints='',\n",
       "              learning_rate=0.1, max_delta_step=0, max_depth=5,\n",
       "              min_child_weight=1, missing=nan, monotone_constraints='()',\n",
       "              n_estimators=200, n_jobs=8, num_parallel_tree=1, random_state=0,\n",
       "              reg_alpha=0, reg_lambda=1, scale_pos_weight=1, subsample=1,\n",
       "              tree_method='exact', validate_parameters=1, verbosity=None),\n",
       " 'LightGBM': LGBMRegressor(colsample_bytree=0.5, learning_rate=0.01, n_estimators=1500)}"
      ]
     },
     "execution_count": 44,
     "metadata": {},
     "output_type": "execute_result"
    }
   ],
   "source": [
    "PCA_models_dict"
   ]
  },
  {
   "cell_type": "code",
   "execution_count": 42,
   "id": "experimental-borough",
   "metadata": {},
   "outputs": [],
   "source": [
    "for name,regressor,params in regressors:\n",
    "    \n",
    "    PCA_models_dict[name].fit(pca_X,pca_Y)\n",
    "    pd.to_pickle(PCA_models_dict[name], open(\"PCA_Final_\"+name+\"_Model.pkl\", \"wb\"))"
   ]
  },
  {
   "cell_type": "code",
   "execution_count": 45,
   "id": "sexual-tissue",
   "metadata": {},
   "outputs": [],
   "source": [
    "################################################\n",
    "# Feature Importance\n",
    "################################################"
   ]
  },
  {
   "cell_type": "code",
   "execution_count": 46,
   "id": "double-biography",
   "metadata": {},
   "outputs": [
    {
     "data": {
      "image/png": "[encoded data removed]",
      "text/plain": [
       "<Figure size 720x504 with 1 Axes>"
      ]
     },
     "metadata": {},
     "output_type": "display_data"
    },
    {
     "data": {
      "text/plain": [
       "<Figure size 432x288 with 0 Axes>"
      ]
     },
     "metadata": {},
     "output_type": "display_data"
    }
   ],
   "source": [
    "feature_importance(PCA_models_dict[\"LightGBM\"],pca_X,num = 20, save = True)"
   ]
  },
  {
   "cell_type": "code",
   "execution_count": 47,
   "id": "applied-penguin",
   "metadata": {},
   "outputs": [],
   "source": [
    "################################################\n",
    "# Analyzing Model Complexity with Learning Curves (BONUS)\n",
    "################################################"
   ]
  },
  {
   "cell_type": "code",
   "execution_count": 51,
   "id": "impossible-condition",
   "metadata": {},
   "outputs": [
    {
     "name": "stdout",
     "output_type": "stream",
     "text": [
      "learning_rate : 0.01\n",
      "n_estimators : 1500\n",
      "colsample_bytree : 0.5\n"
     ]
    }
   ],
   "source": [
    "for i in lightgbm_params:\n",
    "    print(i, \":\", PCA_models_dict[\"LightGBM\"].get_params()[i])"
   ]
  },
  {
   "cell_type": "code",
   "execution_count": 52,
   "id": "functioning-digit",
   "metadata": {},
   "outputs": [
    {
     "data": {
      "image/png": "[encoded data removed]",
      "text/plain": [
       "<Figure size 432x288 with 1 Axes>"
      ]
     },
     "metadata": {},
     "output_type": "display_data"
    },
    {
     "data": {
      "image/png": "[encoded data removed]",
      "text/plain": [
       "<Figure size 432x288 with 1 Axes>"
      ]
     },
     "metadata": {},
     "output_type": "display_data"
    },
    {
     "data": {
      "image/png": "[encoded data removed]",
      "text/plain": [
       "<Figure size 432x288 with 1 Axes>"
      ]
     },
     "metadata": {},
     "output_type": "display_data"
    }
   ],
   "source": [
    "for i in lightgbm_params:\n",
    "    val_curve_params(PCA_models_dict[\"LightGBM\"], \n",
    "                     pca_X, \n",
    "                     pca_Y, \n",
    "                     param_name=i,\n",
    "                     param_range = lightgbm_params[i],\n",
    "                     scoring = \"neg_mean_squared_error\",\n",
    "                     cv = 5)"
   ]
  },
  {
   "cell_type": "code",
   "execution_count": 53,
   "id": "introductory-texture",
   "metadata": {},
   "outputs": [],
   "source": [
    "######################################################\n",
    "# Prediction for a New Observation\n",
    "######################################################"
   ]
  },
  {
   "cell_type": "code",
   "execution_count": 57,
   "id": "opposed-festival",
   "metadata": {},
   "outputs": [
    {
     "data": {
      "text/plain": [
       "array([11.94795585])"
      ]
     },
     "execution_count": 57,
     "metadata": {},
     "output_type": "execute_result"
    }
   ],
   "source": [
    "random_select_pca = pca_X.sample(1,random_state = 42)\n",
    "random_pca_values = pca_Y.loc[random_select_pca.index].values\n",
    "random_pca_values"
   ]
  },
  {
   "cell_type": "code",
   "execution_count": 59,
   "id": "marked-ownership",
   "metadata": {},
   "outputs": [
    {
     "data": {
      "text/plain": [
       "array([11.92004554])"
      ]
     },
     "execution_count": 59,
     "metadata": {},
     "output_type": "execute_result"
    }
   ],
   "source": [
    "PCA_models_dict[\"LightGBM\"].predict(random_select_pca)"
   ]
  },
  {
   "cell_type": "code",
   "execution_count": 60,
   "id": "skilled-daughter",
   "metadata": {},
   "outputs": [],
   "source": [
    "######################################\n",
    "# Actual Values vs Estimated Values\n",
    "######################################"
   ]
  },
  {
   "cell_type": "code",
   "execution_count": 61,
   "id": "second-weekend",
   "metadata": {},
   "outputs": [
    {
     "data": {
      "image/png": "[encoded data removed]",
      "text/plain": [
       "<Figure size 720x504 with 1 Axes>"
      ]
     },
     "metadata": {},
     "output_type": "display_data"
    }
   ],
   "source": [
    "y_pred_pca = PCA_models_dict[\"LightGBM\"].predict(pca_X)\n",
    "\n",
    "plt.figure(figsize = (10,7))\n",
    "plt.plot(pca_Y, pca_Y, color = \"g\",label = \"Actual_Values\")\n",
    "plt.scatter(y_pred_pca,y_pred_pca, color = \"r\", label = \"Estimated_Values\")\n",
    "\n",
    "plt.title(\"Actual Values & Estimated Values\")\n",
    "\n",
    "plt.show()"
   ]
  },
  {
   "cell_type": "code",
   "execution_count": 62,
   "id": "fewer-situation",
   "metadata": {},
   "outputs": [],
   "source": [
    "######################################\n",
    "#Loading Results\n",
    "######################################"
   ]
  },
  {
   "cell_type": "code",
   "execution_count": 63,
   "id": "pursuant-testing",
   "metadata": {},
   "outputs": [],
   "source": [
    "submission_df_pca = pd.DataFrame()\n",
    "submission_df_pca[\"Id\"] = test_df[\"Id\"].astype(int)"
   ]
  },
  {
   "cell_type": "code",
   "execution_count": 68,
   "id": "useful-fence",
   "metadata": {},
   "outputs": [],
   "source": [
    "y_pred_pca_test = PCA_models_dict[\"LightGBM\"].predict( pca_test_df.drop(\"Id\",axis = 1) )\n",
    "\n",
    "submission_df_pca[\"SalePrice\"] = np.expm1(y_pred_pca_test)\n",
    "\n",
    "submission_df_pca.to_csv(\"Submission_PCA.csv\",index = False)"
   ]
  },
  {
   "cell_type": "code",
   "execution_count": 69,
   "id": "textile-format",
   "metadata": {},
   "outputs": [
    {
     "data": {
      "text/html": [
       "<div>\n",
       "<style scoped>\n",
       "    .dataframe tbody tr th:only-of-type {\n",
       "        vertical-align: middle;\n",
       "    }\n",
       "\n",
       "    .dataframe tbody tr th {\n",
       "        vertical-align: top;\n",
       "    }\n",
       "\n",
       "    .dataframe thead th {\n",
       "        text-align: right;\n",
       "    }\n",
       "</style>\n",
       "<table border=\"1\" class=\"dataframe\">\n",
       "  <thead>\n",
       "    <tr style=\"text-align: right;\">\n",
       "      <th></th>\n",
       "      <th>Id</th>\n",
       "      <th>SalePrice</th>\n",
       "    </tr>\n",
       "  </thead>\n",
       "  <tbody>\n",
       "    <tr>\n",
       "      <th>1460</th>\n",
       "      <td>1461</td>\n",
       "      <td>120384.727904</td>\n",
       "    </tr>\n",
       "    <tr>\n",
       "      <th>1461</th>\n",
       "      <td>1462</td>\n",
       "      <td>162264.431029</td>\n",
       "    </tr>\n",
       "    <tr>\n",
       "      <th>1462</th>\n",
       "      <td>1463</td>\n",
       "      <td>184016.580962</td>\n",
       "    </tr>\n",
       "    <tr>\n",
       "      <th>1463</th>\n",
       "      <td>1464</td>\n",
       "      <td>189933.395526</td>\n",
       "    </tr>\n",
       "    <tr>\n",
       "      <th>1464</th>\n",
       "      <td>1465</td>\n",
       "      <td>190232.598474</td>\n",
       "    </tr>\n",
       "  </tbody>\n",
       "</table>\n",
       "</div>"
      ],
      "text/plain": [
       "        Id      SalePrice\n",
       "1460  1461  120384.727904\n",
       "1461  1462  162264.431029\n",
       "1462  1463  184016.580962\n",
       "1463  1464  189933.395526\n",
       "1464  1465  190232.598474"
      ]
     },
     "execution_count": 69,
     "metadata": {},
     "output_type": "execute_result"
    }
   ],
   "source": [
    "submission_df_pca.head()"
   ]
  },
  {
   "cell_type": "code",
   "execution_count": null,
   "id": "collectible-lewis",
   "metadata": {},
   "outputs": [],
   "source": []
  }
 ],
 "metadata": {
  "kernelspec": {
   "display_name": "Python 3",
   "language": "python",
   "name": "python3"
  },
  "language_info": {
   "codemirror_mode": {
    "name": "ipython",
    "version": 3
   },
   "file_extension": ".py",
   "mimetype": "text/x-python",
   "name": "python",
   "nbconvert_exporter": "python",
   "pygments_lexer": "ipython3",
   "version": "3.7.7"
  }
 },
 "nbformat": 4,
 "nbformat_minor": 5
}
